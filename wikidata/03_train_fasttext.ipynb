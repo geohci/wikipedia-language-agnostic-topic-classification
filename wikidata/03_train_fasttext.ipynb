{
 "cells": [
  {
   "cell_type": "markdown",
   "metadata": {},
   "source": [
    "## Notebook setup"
   ]
  },
  {
   "cell_type": "code",
   "execution_count": 1,
   "metadata": {},
   "outputs": [],
   "source": [
    "import bz2\n",
    "import csv\n",
    "import json\n",
    "import os\n",
    "import random\n",
    "import sys\n",
    "\n",
    "import fasttext\n",
    "import numpy as np\n",
    "import pandas as pd\n",
    "import seaborn as sns"
   ]
  },
  {
   "cell_type": "code",
   "execution_count": 2,
   "metadata": {},
   "outputs": [
    {
     "data": {
      "text/plain": [
       "131072"
      ]
     },
     "execution_count": 2,
     "metadata": {},
     "output_type": "execute_result"
    }
   ],
   "source": [
    "csv.field_size_limit(sys.maxsize)"
   ]
  },
  {
   "cell_type": "markdown",
   "metadata": {},
   "source": [
    "## Train Model\n",
    "See: stat1007:/home/isaacj/lang_agnostic_topic_modeling/topics/train_fasttext_topic_classification.py"
   ]
  },
  {
   "cell_type": "code",
   "execution_count": 4,
   "metadata": {},
   "outputs": [],
   "source": [
    "model_dir = './fasttext_data/wikidata_202011/'\n",
    "model_prefix = 'model_wd_202011'\n",
    "OUTPUT_MODEL = os.path.join(model_dir, f'{model_prefix}.bin')\n",
    "EVAL_TSV = os.path.join(model_dir, f'{model_prefix}_eval.tsv')\n",
    "train_fn = os.path.join(model_dir, 'wd_2020_11_02_train.txt')\n",
    "val_fn = os.path.join(model_dir, 'wd_2020_11_02_val.txt')\n",
    "test_fn = os.path.join(model_dir, 'wd_2020_11_02_test.txt')\n",
    "for fn in [train_fn, val_fn, test_fn]:\n",
    "    assert os.path.exists(fn)"
   ]
  },
  {
   "cell_type": "code",
   "execution_count": null,
   "metadata": {},
   "outputs": [],
   "source": [
    "# Note: this script is in the outlinks folder; no difference\n",
    "!python train_fasttext_topic_classification.py \\\n",
    "  --training_data {train_fn} \\\n",
    "  --val_data {val_fn} \\\n",
    "  --test_data {test_fn} \\\n",
    "  --output_model {OUTPUT_MODEL} \\\n",
    "  --false_negatives_fn '' \\\n",
    "  --word_vectors '' \\\n",
    "  --learning_rates 0.1 \\\n",
    "  --minCounts 3 \\\n",
    "  --epochs 25 \\\n",
    "  --ws 20 \\\n",
    "  --ndims 50 \\\n",
    "  --mlc_res_tsv {EVAL_TSV}"
   ]
  }
 ],
 "metadata": {
  "kernelspec": {
   "display_name": "Python 3",
   "language": "python",
   "name": "python3"
  },
  "language_info": {
   "codemirror_mode": {
    "name": "ipython",
    "version": 3
   },
   "file_extension": ".py",
   "mimetype": "text/x-python",
   "name": "python",
   "nbconvert_exporter": "python",
   "pygments_lexer": "ipython3",
   "version": "3.7.3"
  }
 },
 "nbformat": 4,
 "nbformat_minor": 4
}
