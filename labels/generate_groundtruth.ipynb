{
 "cells": [
  {
   "cell_type": "markdown",
   "metadata": {},
   "source": [
    "# Set up session"
   ]
  },
  {
   "cell_type": "code",
   "execution_count": 1,
   "metadata": {},
   "outputs": [],
   "source": [
    "import bz2\n",
    "from collections import defaultdict\n",
    "import csv\n",
    "import json\n",
    "import os\n",
    "import re\n",
    "import time\n",
    "import yaml\n",
    "\n",
    "import requests"
   ]
  },
  {
   "cell_type": "markdown",
   "metadata": {},
   "source": [
    "## Functions"
   ]
  },
  {
   "cell_type": "code",
   "execution_count": 2,
   "metadata": {},
   "outputs": [],
   "source": [
    "def exec_mariadb_stat2(query, db, filename=None, verbose=True):\n",
    "    \"\"\"Query MariaDB.\"\"\"\n",
    "    if db in DB_METADATA:\n",
    "        node = DB_METADATA[db]['node']\n",
    "    else:\n",
    "        raise NotImplementedError(\"Don't know mapping of db {0} to mysql node.\".format(db))\n",
    "    cmd = ('mysql --defaults-extra-file=/etc/mysql/conf.d/analytics-research-client.cnf '\n",
    "           '-h s{0}-analytics-replica.eqiad.wmnet -P 331{0} -A --database {1} -e \"{2}\"'.format(node, db, query))\n",
    "    if filename:\n",
    "        cmd = cmd + \" > \" + filename\n",
    "    if verbose:\n",
    "        print(' '.join(cmd.split()))\n",
    "    ret = os.system(cmd)\n",
    "    return ret\n",
    "\n",
    "def exec_hive_stat2(query, filename=None, priority=False, verbose=True, nice=False, large=False):\n",
    "    \"\"\"Query Hive.\"\"\"\n",
    "    if priority:\n",
    "        query = \"SET mapreduce.job.queuename=priority;\" + query\n",
    "    elif large:\n",
    "        query = \"SET mapreduce.job.queuename=nice; SET mapreduce.map.memory.mb=4096;\" + query # SET mapreduce.map.memory.mb=4096\n",
    "    elif nice:\n",
    "        query = \"SET mapreduce.job.queuename=nice;\" + query\n",
    "        # if issues: SET mapred.job.queue.name=nice;\n",
    "    cmd = \"\"\"hive -e \\\" \"\"\" + query + \"\"\" \\\"\"\"\"\n",
    "    if filename:\n",
    "        cmd = cmd + \" > \" + filename\n",
    "    if verbose:\n",
    "        print(' '.join(cmd.split()))\n",
    "    ret = os.system(cmd)\n",
    "    return ret"
   ]
  },
  {
   "cell_type": "code",
   "execution_count": 3,
   "metadata": {},
   "outputs": [],
   "source": [
    "def norm_wp_name_ar(wp):\n",
    "    ns_local = 'ويكيبيديا'\n",
    "    return re.sub(\"\\s\\s+\", \" \", wp.lower().replace(ns_local + \":\", \"\").replace('مشروع ويكي', '').strip())\n",
    "\n",
    "def norm_wp_name_en(wp):\n",
    "    ns_local = 'wikipedia'\n",
    "    wp_prefix = 'wikiproject'\n",
    "    return re.sub(\"\\s\\s+\", \" \", wp.lower().replace(ns_local + \":\", \"\").replace(wp_prefix, \"\").strip())\n",
    "\n",
    "def norm_wp_name_hu(wp):\n",
    "    ns_local = 'wikipédia'\n",
    "    to_strip = [ns_local + \":\", 'témájú', 'kapcsolatos', 'műhelyek', 'műhely', '-es ', '-', 'országgal', 'ország']\n",
    "    hardcoded_matches = {'Wikipédia:Harry Potter-műhely':'Harry Potterrel kapcsolatos',\n",
    "                         'Wikipédia:USA-műhely':'USA-val kapcsolatos',\n",
    "                         'Wikipédia:Anime- és mangaműhely':'anime-manga témájú',\n",
    "                         'Wikipédia:Első világháború műhely':'első világháborús témájú'}\n",
    "    for m in hardcoded_matches:\n",
    "        if wp == m:\n",
    "            wp = hardcoded_matches[m]\n",
    "    wp = wp.lower()\n",
    "    for s in to_strip:\n",
    "        wp = wp.replace(s, ' ')\n",
    "    return re.sub(\"\\s\\s+\", \" \", wp.strip())\n",
    "\n",
    "def norm_wp_name_fr(wp):\n",
    "    ns_local = 'projet'\n",
    "    return re.sub(\"\\s\\s+\", \" \", wp.lower().replace(ns_local + ':', \"\").strip())\n",
    "\n",
    "def norm_wp_name_tr(wp):\n",
    "    ns_local = 'vikiproje'\n",
    "    wp_prefix = 'vikipedi'\n",
    "    return re.sub(\"\\s\\s+\", \" \", wp.lower().replace(wp_prefix, \"\").replace(ns_local, '').replace(':', '').strip())"
   ]
  },
  {
   "cell_type": "code",
   "execution_count": 4,
   "metadata": {},
   "outputs": [],
   "source": [
    "def generate_wp_to_labels(wp_taxonomy):\n",
    "    wp_to_labels = defaultdict(set)\n",
    "    for wikiproject_name, label in _invert_wp_taxonomy(wp_taxonomy):\n",
    "        wp_to_labels[norm_wp_name_en(wikiproject_name)].add(label)\n",
    "    return wp_to_labels\n",
    "\n",
    "\n",
    "def _invert_wp_taxonomy(wp_taxonomy, path=None):\n",
    "    catch_all = None\n",
    "    catch_all_wikiprojects = []\n",
    "    for key, value in wp_taxonomy.items():\n",
    "        path_keys = (path or []) + [key]\n",
    "        if key[-1] == \"*\":\n",
    "            # this is a catch-all\n",
    "            catch_all = path_keys\n",
    "            catch_all_wikiprojects.extend(value)\n",
    "            continue\n",
    "        elif isinstance(value, list):\n",
    "            catch_all_wikiprojects.extend(value)\n",
    "            for wikiproject_name in value:\n",
    "                yield wikiproject_name, \".\".join(path_keys)\n",
    "        else:\n",
    "            yield from _invert_wp_taxonomy(value, path=path_keys)\n",
    "    if catch_all is not None:\n",
    "        for wikiproject_name in catch_all_wikiprojects:\n",
    "            yield wikiproject_name, \".\".join(catch_all)\n",
    "\n",
    "def get_topics(wikiprojects, topics_taxonomy, topic_counts):\n",
    "    topics = set()\n",
    "    for wp in wikiprojects:\n",
    "        for wp_part in wp.split('/'):\n",
    "            if wp_part not in topic_counts:\n",
    "                topic_counts[wp_part] = 0\n",
    "            wp_part_normed = norm_wp_name_en(wp_part)\n",
    "            for t in topics_taxonomy.get(wp_part_normed, {}):\n",
    "                topics.add(t)\n",
    "                topic_counts[wp_part] += 1\n",
    "    return sorted(topics)\n",
    "\n",
    "def chunk(pageids, batch_size=50):\n",
    "    \"\"\"Batch pageIDS into sets of 50 for the Mediawiki API.\"\"\"\n",
    "    chunks = []\n",
    "    for i in range(0, len(pageids), batch_size):\n",
    "        chunks.append([str(p) for p in pageids[i:i+batch_size]])\n",
    "    return chunks\n",
    "\n",
    "def get_sitelinks_wikiprojects(wikiproject_tsv, output_json):\n",
    "    \"\"\"Mapping of WikiProjects to go from enwiki -> other languages\n",
    "    This allows for limited groundtruth topic building in other languages.\n",
    "    To generate wikiproject_tsv via SPARQL, start with: https://w.wiki/x3c\n",
    "    \"\"\"\n",
    "    qids = set()\n",
    "    with open(wikiproject_tsv, 'r') as fin:\n",
    "        tsvreader = csv.reader(fin, delimiter='\\t')\n",
    "        assert next(tsvreader) == ['WikiProject']\n",
    "        for line in tsvreader:\n",
    "            qid = line[0].split('/')[-1]\n",
    "            qids.add(qid)\n",
    "    print(\"{0} WikiProject QIDs\".format(len(qids)))\n",
    "    base_url = 'https://wikidata.org/w/api.php'\n",
    "    base_params = {\"action\": \"wbgetentities\",\n",
    "                   \"props\": \"sitelinks\",\n",
    "                   \"format\": \"json\",\n",
    "                   \"formatversion\": 2}\n",
    "    sitelinks = {}\n",
    "    with requests.session() as session:\n",
    "        for qid_set in chunk(list(qids), 50):\n",
    "            params = base_params.copy()\n",
    "            params['ids'] = '|'.join(qid_set)\n",
    "            res = session.get(url=base_url, params=params).json()\n",
    "            for q in res['entities']:\n",
    "                qid = res['entities'][q]['id']\n",
    "                q_slinks = {k:res['entities'][q]['sitelinks'][k]['title'] for k in res['entities'][q].get('sitelinks', {})}\n",
    "                sitelinks[qid] = {}\n",
    "                sitelinks[qid]['qid'] = qid\n",
    "                sitelinks[qid]['sitelinks'] = q_slinks\n",
    "            time.sleep(1)  # be kind to API\n",
    "    with open(output_json, 'w') as fout:\n",
    "        for qid in sitelinks:\n",
    "            fout.write(json.dumps(sitelinks[qid]) + '\\n')"
   ]
  },
  {
   "cell_type": "markdown",
   "metadata": {},
   "source": [
    "# Build Groundtruth Dataset"
   ]
  },
  {
   "cell_type": "code",
   "execution_count": 12,
   "metadata": {},
   "outputs": [],
   "source": [
    "# parameters\n",
    "DB_METADATA = {'enwiki':{'node':1, 'norm':norm_wp_name_en},  # 21M pages\n",
    "               'frwiki':{'node':6, 'norm':norm_wp_name_fr},  #  2.7M pages\n",
    "               'arwiki':{'node':7, 'norm':norm_wp_name_ar},  #  2.8M pages\n",
    "               'huwiki':{'node':7, 'norm':norm_wp_name_hu},  #    330K pages\n",
    "               'trwiki':{'node':2, 'norm':norm_wp_name_tr}   #    280K pages\n",
    "               }\n",
    "\n",
    "page_assessments_tsv = './groundtruth/page_assessments.tsv'\n",
    "db = 'enwiki'\n",
    "dbname_snapshot = '2020-12'\n",
    "pid_to_qid_snapshot = '2021-01-04'\n",
    "pid_to_qid_tsv = './groundtruth/pid_to_qid.tsv'\n",
    "topics_yaml = './groundtruth/wikiproject_taxonomy.yaml'\n",
    "wikiprojects_sitelinks_json = './groundtruth/wikiprojects_sitelinks.json'\n",
    "output_json = f'./groundtruth/labeled_{db}_with_topics_metadata.json.bz2'\n",
    "norm_fn = DB_METADATA[db]['norm']\n",
    "sep = '||'"
   ]
  },
  {
   "cell_type": "code",
   "execution_count": 9,
   "metadata": {},
   "outputs": [
    {
     "name": "stdout",
     "output_type": "stream",
     "text": [
      "--2021-01-26 02:25:18--  https://raw.githubusercontent.com/wikimedia/wikitax/master/datasets/wikiproject_taxonomy.halfak_20191202.yaml\n",
      "Resolving webproxy.eqiad.wmnet (webproxy.eqiad.wmnet)... 2620:0:861:1:208:80:154:32, 208.80.154.32\n",
      "Connecting to webproxy.eqiad.wmnet (webproxy.eqiad.wmnet)|2620:0:861:1:208:80:154:32|:8080... connected.\n",
      "Proxy request sent, awaiting response... 200 OK\n",
      "Length: 41350 (40K) [text/plain]\n",
      "Saving to: ‘./groundtruth/wikiproject_taxonomy.yaml’\n",
      "\n",
      "./groundtruth/wikip 100%[===================>]  40.38K  --.-KB/s    in 0.001s  \n",
      "\n",
      "2021-01-26 02:25:19 (35.8 MB/s) - ‘./groundtruth/wikiproject_taxonomy.yaml’ saved [41350/41350]\n",
      "\n"
     ]
    }
   ],
   "source": [
    "!wget -O {topics_yaml} https://raw.githubusercontent.com/wikimedia/wikitax/master/datasets/wikiproject_taxonomy.halfak_20191202.yaml"
   ]
  },
  {
   "cell_type": "code",
   "execution_count": 10,
   "metadata": {},
   "outputs": [
    {
     "name": "stdout",
     "output_type": "stream",
     "text": [
      "Gathering page assessments data and writing to: ./groundtruth/page_assessments.tsv\n",
      "mysql --defaults-extra-file=/etc/mysql/conf.d/analytics-research-client.cnf -h s1-analytics-replica.eqiad.wmnet -P 3311 -A --database enwiki -e \" SELECT pa.pa_page_id AS article_pid, GROUP_CONCAT(DISTINCT pap.pap_project_title SEPARATOR '||') AS wp_templates, MAX(p.page_latest) AS article_revid, MAX(p.page_title) AS title, MAX(ptalk.page_id) AS talk_pid, MAX(ptalk.page_latest) AS talk_revid FROM page_assessments pa INNER JOIN page_assessments_projects pap ON (pa.pa_project_id = pap.pap_project_id) INNER JOIN page p ON (pa.pa_page_id = p.page_id AND p.page_namespace = 0 and p.page_is_redirect = 0) INNER JOIN page ptalk ON (p.page_title = ptalk.page_title AND ptalk.page_namespace = 1) GROUP BY pa.pa_page_id \" > ./groundtruth/page_assessments.tsv\n",
      "Page assessments complete after 3.6 minutes!\n"
     ]
    }
   ],
   "source": [
    "# get mapping of pageID to list of all associated WikiProjects via page_assessments table in MariaDB\n",
    "if not os.path.exists(page_assessments_tsv):\n",
    "    print(\"Gathering page assessments data and writing to:\", page_assessments_tsv)\n",
    "    start_time = time.time()\n",
    "    query = \"\"\"\n",
    "    SELECT pa.pa_page_id AS article_pid,\n",
    "           GROUP_CONCAT(DISTINCT pap.pap_project_title SEPARATOR '{0}') AS wp_templates,\n",
    "           MAX(p.page_latest) AS article_revid,\n",
    "           MAX(p.page_title) AS title,\n",
    "           MAX(ptalk.page_id) AS talk_pid,\n",
    "           MAX(ptalk.page_latest) AS talk_revid\n",
    "      FROM page_assessments pa\n",
    "     INNER JOIN page_assessments_projects pap\n",
    "           ON (pa.pa_project_id = pap.pap_project_id)\n",
    "     INNER JOIN page p\n",
    "           ON (pa.pa_page_id = p.page_id AND p.page_namespace = 0 and p.page_is_redirect = 0)\n",
    "     INNER JOIN page ptalk\n",
    "           ON (p.page_title = ptalk.page_title AND ptalk.page_namespace = 1)\n",
    "     GROUP BY pa.pa_page_id\n",
    "    \"\"\".format(sep)\n",
    "    exec_mariadb_stat2(query=query, db=db, filename=page_assessments_tsv, verbose=True)\n",
    "    print(\"Page assessments complete after {0:.1f} minutes!\".format((time.time() - start_time) / 60))"
   ]
  },
  {
   "cell_type": "code",
   "execution_count": 11,
   "metadata": {},
   "outputs": [
    {
     "name": "stdout",
     "output_type": "stream",
     "text": [
      "5970598 pages with WikiProject assessments in enwiki.\n"
     ]
    }
   ],
   "source": [
    "pids_to_metadata = {}\n",
    "with open(page_assessments_tsv, 'r') as fin:\n",
    "    tsvreader = csv.reader(fin, delimiter='\\t')\n",
    "    assert next(tsvreader) == ['article_pid', 'wp_templates', 'article_revid', 'title', 'talk_pid', 'talk_revid']\n",
    "    for line in tsvreader:\n",
    "        pid = int(line[0])\n",
    "        wp_templates = line[1].split(sep)\n",
    "        rid = int(line[2])\n",
    "        title = line[3]\n",
    "        tpid = int(line[4])\n",
    "        trid = int(line[5])\n",
    "        pids_to_metadata[pid] = {'wp_templates':wp_templates,\n",
    "                                 'article_revid':rid,\n",
    "                                 'title':title,\n",
    "                                 'talk_pid':tpid,\n",
    "                                 'talk_revid':trid}\n",
    "print(\"{0} pages with WikiProject assessments in {1}.\".format(len(pids_to_metadata), db))"
   ]
  },
  {
   "cell_type": "code",
   "execution_count": 13,
   "metadata": {},
   "outputs": [
    {
     "name": "stdout",
     "output_type": "stream",
     "text": [
      "Gathering PID / QID mapping and writing to: ./groundtruth/pid_to_qid.tsv\n",
      "hive -e \" SET mapreduce.job.queuename=nice; WITH wikipedia_projects AS ( SELECT DISTINCT dbname FROM wmf_raw.mediawiki_project_namespace_map WHERE snapshot = '2020-12' AND hostname LIKE '%wikipedia%' ) SELECT item_id, page_id, wiki_db FROM wmf.wikidata_item_page_link wd INNER JOIN wikipedia_projects wp ON (wd.wiki_db = wp.dbname) WHERE snapshot = '2021-01-04' AND page_namespace = 0 \" > ./groundtruth/pid_to_qid.tsv\n",
      "PID / QID mapping complete after 5.7 minutes!\n"
     ]
    }
   ],
   "source": [
    "# get data for QIDs / sitelinks\n",
    "if not os.path.exists(pid_to_qid_tsv):\n",
    "    print(\"Gathering PID / QID mapping and writing to:\", pid_to_qid_tsv)\n",
    "    start_time = time.time()\n",
    "    query = f\"\"\"\n",
    "    WITH wikipedia_projects AS (\n",
    "        SELECT DISTINCT\n",
    "          dbname\n",
    "        FROM wmf_raw.mediawiki_project_namespace_map\n",
    "        WHERE\n",
    "          snapshot = '{dbname_snapshot}'\n",
    "          AND hostname LIKE '%wikipedia%'\n",
    "    )\n",
    "    SELECT\n",
    "      item_id,\n",
    "      page_id,\n",
    "      wiki_db\n",
    "    FROM wmf.wikidata_item_page_link wd\n",
    "    INNER JOIN wikipedia_projects wp\n",
    "      ON (wd.wiki_db = wp.dbname)\n",
    "    WHERE\n",
    "      snapshot = '{pid_to_qid_snapshot}'\n",
    "      AND page_namespace = 0\n",
    "    \"\"\"\n",
    "    exec_hive_stat2(query, filename=pid_to_qid_tsv, priority=False, verbose=True, nice=True, large=False)\n",
    "    print(\"PID / QID mapping complete after {0:.1f} minutes!\".format((time.time() - start_time) / 60))"
   ]
  },
  {
   "cell_type": "code",
   "execution_count": 14,
   "metadata": {},
   "outputs": [
    {
     "name": "stdout",
     "output_type": "stream",
     "text": [
      "6493524 pages in enwiki with Wikidata IDs\n"
     ]
    }
   ],
   "source": [
    "qid_to_pids = {}\n",
    "pid_to_qid = {}\n",
    "with open(pid_to_qid_tsv, 'r') as fin:\n",
    "    tsvreader = csv.reader(fin, delimiter='\\t')\n",
    "    assert next(tsvreader) == ['item_id', 'page_id', 'wiki_db']\n",
    "    for line in tsvreader:\n",
    "        qid = line[0]\n",
    "        pid = int(line[1])\n",
    "        wiki_db = line[2]\n",
    "        if qid not in qid_to_pids:\n",
    "            qid_to_pids[qid] = {}\n",
    "        qid_to_pids[qid][wiki_db] = pid\n",
    "        if wiki_db == db:\n",
    "            pid_to_qid[pid] = qid\n",
    "print(\"{0} pages in {1} with Wikidata IDs\".format(len(pid_to_qid), db))"
   ]
  },
  {
   "cell_type": "code",
   "execution_count": 15,
   "metadata": {},
   "outputs": [
    {
     "name": "stdout",
     "output_type": "stream",
     "text": [
      "5930971 sitelink sets found out of 5970598\n"
     ]
    }
   ],
   "source": [
    "found = 0\n",
    "for pid in pids_to_metadata:\n",
    "    if pid in pid_to_qid:\n",
    "        found += 1\n",
    "        qid = pid_to_qid[pid]\n",
    "        pids_to_metadata[pid]['sitelinks'] = qid_to_pids[qid]\n",
    "        pids_to_metadata[pid]['qid'] = qid\n",
    "print(\"{0} sitelink sets found out of {1}\".format(found, len(pids_to_metadata)))"
   ]
  },
  {
   "cell_type": "code",
   "execution_count": 16,
   "metadata": {},
   "outputs": [
    {
     "name": "stdout",
     "output_type": "stream",
     "text": [
      "1139 WikiProjects and 64 topics\n"
     ]
    }
   ],
   "source": [
    "with open(topics_yaml, 'r') as fin:\n",
    "    taxonomy = yaml.safe_load(fin)\n",
    "\n",
    "wikiproject_to_topic = generate_wp_to_labels(taxonomy)\n",
    "topics = set()\n",
    "for wp in wikiproject_to_topic:\n",
    "    for topic in wikiproject_to_topic[wp]:\n",
    "        topics.add(topic)\n",
    "        \n",
    "if db != 'enwiki':\n",
    "    if not os.path.exists(wikiprojects_sitelinks_json):\n",
    "        get_sitelinks_wikiprojects(wikiproject_tsv, wikiprojects_sitelinks_json)\n",
    "    db_to_enwiki = {}\n",
    "    with open(wikiprojects_sitelinks_json, 'r') as fin:\n",
    "        for line in fin:\n",
    "            lj = json.loads(line)\n",
    "            if 'enwiki' in lj['sitelinks'] and db in lj['sitelinks']:\n",
    "                db_to_enwiki[norm_fn(lj['sitelinks'][db])] = lj['sitelinks']['enwiki']\n",
    "print(\"{0} WikiProjects and {1} topics\".format(len(wikiproject_to_topic), len(topics)))"
   ]
  },
  {
   "cell_type": "code",
   "execution_count": 17,
   "metadata": {},
   "outputs": [],
   "source": [
    "# dump articles to bzipped JSON with metadata and associated topics\n",
    "topic_counts = {}\n",
    "topic_dist = {}\n",
    "with bz2.open(output_json, 'wt') as fout:\n",
    "    for pid in pids_to_metadata:\n",
    "        wp_templates = pids_to_metadata[pid]['wp_templates']\n",
    "        if db != 'enwiki':\n",
    "            wp_templates = [db_to_enwiki[norm_fn(t)] for t in wp_templates if norm_fn(t) in db_to_enwiki]\n",
    "        topics = get_topics(wp_templates, wikiproject_to_topic, topic_counts)\n",
    "        topic_dist[len(topics)] = topic_dist.get(len(topics), 0) + 1\n",
    "        pids_to_metadata[pid]['topics'] = topics\n",
    "        fout.write(json.dumps(pids_to_metadata[pid]) + \"\\n\")"
   ]
  },
  {
   "cell_type": "code",
   "execution_count": 18,
   "metadata": {},
   "outputs": [
    {
     "name": "stdout",
     "output_type": "stream",
     "text": [
      "WikiProjects w/o topics: ['1000 Women in Religion', 'A Cappella', 'A Song of Ice and Fire', 'Abandoned Articles', 'Abkhazia', 'Abortion', 'Accessibility', 'Addictions and recovery', 'Adele', 'Adelie Land work group', 'Adoption, fostering, orphan care and displacement', 'Aerosmith', 'Aesthetics', 'Air sports project', 'Airsoft', 'Ajman work group', 'Alexandra Stan', 'Alien', 'Alphabet', 'Alternate Reality Gaming', 'American Football League', 'American Samoa', 'American Samoa work group', 'Americas', 'Anabaptist work group', 'Analytic philosophy', 'Anarchism', 'Ancient philosophy', 'Anglo-Saxon Kingdoms', 'Anguilla work group', 'Animation', 'Antarctic Chilean Territory work group', 'Aramea', 'Archives of American Art', 'Arena Football League', 'Argentine Antarctica work group', 'Ariana Grande', 'Artemis Fowl', 'Article Rescue Squadron', 'Articles for creation', 'Articles for improvement', 'Arts', 'Artsakh', 'Artsakh Republic', 'Aruba work group', 'Australian Antarctic Territory work group', 'Australian Roads', 'Australian rules football', 'Autism', 'Auto trails', 'Aviation accident project', 'Awards', 'Ayyavazhi', 'Azawad', 'BBC Radio', 'Babism', 'Backpacking', 'Bahrain', 'Balboa Park', 'Balboa Park project', 'Bangladesh Premier League', 'Baptist work group', 'Barack Obama', 'Basic Income', 'Batman work group', 'Belgrade', 'Beyoncé', 'Biblical criticism work group', 'Bibliographies', 'Big Brother', 'Billie Eilish', 'Biography work group', 'Biomes', 'Biophysics', 'Birmingham', 'Björk', 'Black Lives Matter', 'Bleach work group', 'Board and table games', 'Bob Dylan', 'Body Modification', 'Bonnie Tyler', 'Bradford', 'Brandy', 'Brazilian Antarctica work group', 'Brigham Young University', 'British Antarctic Territory work group', 'British Library', 'British Museum', 'British Overseas Territories', 'British Virgin Islands work group', 'British comics work group', 'Britney Spears', 'Business subpage', 'C', 'C++', 'COVID-19', 'Cal Poly Pomona', 'California State University', 'Calvinism', 'Canada Streets', 'Canadian comics work group', 'Cannabis', 'Caribbean Netherlands work group', 'Carnival', 'Carolina Panthers subproject', 'Carpathian Ethnography Project', 'Cartoon Network', 'Cascadia', 'Catalan-speaking countries', 'Catalonia', 'Categories', 'Cayman Islands work group', 'Cell Signaling', 'Cellular devices', 'Celts', 'Channel Islands', 'Chaos theory', 'Chechnya', 'Chenab Valley', 'Cheryl', 'Chicago Bears', \"Children's Museum of Indianapolis\", 'Chinese cinema workgroup', 'Chinese cities workgroup', 'Chinese maps workgroup', 'Chinese provinces workgroup', 'Christianity in China work group', 'Christina Aguilera', 'Chronology', 'Chumbawamba', 'Citizendium Porting', 'Civil Air Patrol', 'Civil Rights Movement', 'Classical League', 'Classical Tamil workgroup', 'Cleveland Museum of Art', 'Climate and environment department', 'Climate change', 'Coldplay', 'Colombian Departments', 'Colored Conventions', 'Combat Games', 'Comic book films work group', 'Comic strips work group', 'Comics creators work group', 'Community', 'Computational Biology', 'Concerts', 'Containers', 'Contemporary Art', 'Contemporary philosophy', 'Continental philosophy', 'Contract bridge', 'Control theory', 'Conventions work group', 'Core', 'Core biographies', 'Core topics', 'Corning Museum of Glass', 'Coronation Street', 'Countering systemic bias', 'County roads', 'Crime', 'Criminal Biography', 'Crowded House', 'Cryptocurrency', 'Cultural Heritage of Serbia', 'Culture', 'Culture and Society subpage', 'Curaçao work group', 'Current events', 'Cybernetics', 'DC Comics work group', 'Database analysis', 'Days of the year', 'Deaf', 'Death', 'Debating', 'Delaware Art Museum', 'Deletion', 'Demi Lovato', 'Demographics', 'Derby Museum and Art Gallery', 'Dictionary of National Biography', 'Dietary Supplements', 'Digimon work group', 'Diptera', 'Disambiguation', 'Discrimination', 'Discworld', 'Dispute Resolution', 'Domesday Book', 'Donald Trump', 'Dragon Ball work group', 'Dravidian civilizations', 'Dravidian people', 'Dua Lipa', 'Dungeons & Dragons', 'Dynamical systems', 'Early Web History', 'EastEnders', 'Eastern Orthodox Church', 'Eastern philosophy', 'Economy and infrastructure department', 'Edinburgh', 'Edinburgh Festival Fringe', 'Education in India workgroup', 'Education in New Jersey', 'Education in the United Kingdom', 'Egyptian religion work group', 'Elvis Presley', 'Embryology', 'Eminem', 'Emory University', 'English Royalty', 'Enterprise modelling', 'Entrepreneurship policies in the Arab world', 'Epilepsy', 'Epistemology', 'Essays', 'Essential Oils', 'Ethics', 'Etymology', 'European comics work group', 'Evanescence', 'Evangelical Christianity', 'Evangelion work group', 'External links', 'Extrasolar planets', 'Falkland Islands work group', 'Falun Gong work group', 'Family and relationships', 'Festivals', 'Field of anatomy', 'Florida Gators', 'Florida State University', 'Folklore', 'Frank Sinatra', 'Frank Zappa', 'Fraternities and Sororities', 'Free and open-source software', 'Freedom of speech', 'Freemasonry', 'French Africa work group', 'French Guiana work group', 'French Polynesia work group', 'Freopedia', 'Fujairah work group', 'Futurama', 'G.I. Joe', 'Galicia', 'Gaul', 'Gemology and Jewelry', 'Gemology subpage', 'Gemstones subpage', 'Gene Wiki', 'Genetics', 'Geocaching', 'Geographical coordinates', 'Geography department', 'George Washington University', 'Gerald Ford', 'GibraltarpediA', 'Glass', 'Glossaries', 'Go', 'Government', 'Greater Boston Public Transit', 'Green Day', 'Green Politics', 'Gross anatomy', 'Guadeloupe work group', 'Guam', 'Guam work group', 'Guild of Copy Editors', 'Gundam work group', \"Guns N' Roses\", 'Gwen Stefani', 'HOPAU', 'Halloween', 'Halo', 'Hampshire County, West Virginia', 'Handball', 'Hanseatic League', 'Harold B. Lee Library', 'Harold B. Lee Library 20th century Mormonism and Americana collection', 'Harold B. Lee Library Music collections', 'Haruhi Suzumiya work group', 'Hazara', 'Hello! Project', 'Herbert Art Gallery and Museum', 'Herefordshire', 'Higher education', 'Highlander', 'Hillary Clinton', 'History and politics department', 'History of Poland', \"Hitchhiker's Guide to the Galaxy\", 'Homeopathy', 'Hong Kong Cinema', 'Hong Kong Roads', 'Hong Kong Transport workgroup', 'Horror', 'Horticulture and Gardening', 'Human–Computer Interaction', 'Illyria', 'Images and Media', 'Indexes', 'Indian Premier League', 'Indian cinema workgroup', 'Indian geography workgroup', 'Indian history workgroup', 'Indian literature workgroup', 'Indian music workgroup', 'Indian politics workgroup', 'Indian roads', 'Indian television workgroup', 'Indian women and gender issues workgroup', 'Indiana Historical Society', 'Indiana Jones', 'Indianapolis Colts', 'Indigenous peoples of the Americas', 'Industrial design', 'Infoboxes', 'Information Architecture', 'Inheritance Cycle', 'Inna', 'Integrity', 'Intel', 'Interfaith work group', 'International Dunhuang Project', 'Interstate Highways', 'Introductions', 'Invention', 'Islam in China', 'Israel Museum, Jerusalem', 'Janet Jackson', 'JavaScript', 'Jennifer Lopez', 'Jesus work group', 'Jewelry subpage', 'Jewish culture', 'JoburgpediA', 'Joe Biden', 'Johns Hopkins University', 'Johnston Atoll work group', 'Jordan', 'Junctions', 'Justin Timberlake', 'Józef Piłsudski Institute of America', 'Kabbalah', 'Kansas City Chiefs', 'Karachi', 'Katy Perry', 'Kelly Clarkson', 'Keywords', 'Khitan', 'King Arthur', 'King Crimson', 'Kingdom of Naples', 'Knots', 'Korean popular culture working group', 'Korn', 'Kurdistan', 'Kuwait', 'Kylie Minogue', 'Ladakh', 'Lady Gaga', 'Lanark', 'Language & literature', 'Languages department', 'Lanka Premier League', 'Lapidary subpage', 'Latin', 'Latin America', 'Latter Day Saint movement', 'Lead Improvement Team', 'Led Zeppelin', 'Left Hand Path work group', 'Lego', 'Leona Lewis', 'Lethwei', 'Library of Congress', 'Library of Congress Country Studies', 'Limited recognition', 'Limnology and Oceanography', 'Linkin Park', 'Lists', 'Lobe-Fins', 'Longevity', 'Los Angeles Rams', 'Lower Assam', 'Lower Saxony', 'MIT', 'Madeira work group', 'Madonna', 'Magic: The Gathering', 'Manual of Style', 'Maps', 'Mariah Carey', 'Martinique work group', 'Marvel Comics work group', 'Mass surveillance', 'Mathematical and Computational Biology', 'Media Lab', 'Media franchises', 'Medicinal botany', 'Medieval England', 'Medieval philosophy', 'Meghan Trainor', 'Men in Black', \"Men's Issues\", 'Metaphysics', 'Method engineering', 'Methodism work group', 'Metropolitan Museum of Art', 'Michael Jackson', 'Microanatomy', 'Microformats', 'Microsoft Windows', 'Middle-earth', 'Miley Cyrus', 'Military', 'Mills', 'Missing encyclopedic articles', 'Modern philosophy', 'Molecular and Cell Biology', 'MonmouthpediA', 'Months in the 1900s', 'Montserrat work group', 'Motörhead', 'Mozilla', 'Museu Picasso-related', 'Museum of Modern Art', 'Mustelids work group', 'My Little Pony', 'Mysticism', 'NA', 'NATO', 'NYC', 'National Archives', 'National Basketball League of Canada', 'National Institutes of Health', 'National Railway Museum', 'Navarre, Florida', 'Neopaganism', 'Netball', 'Neuroanatomy', 'New Caledonia work group', 'New England Public Transit', 'New York', 'New York Giants subproject', 'New York Jets subproject', 'New Zealand Railways', 'New Zealand schools', 'New religious movements work group', 'Newcomb Archives and Vorhoff Library', 'Newspapers', 'Nine Inch Nails', 'Norse mythology work group', 'North Korea working group', 'Northern Mariana Islands work group', 'Norwegian Antarctica work group', 'Nudity', 'Numismatics', 'OWS', 'Occult', 'Occupational Safety and Health', 'Oceania', 'Okanagan', 'Omaha', 'Oman', 'Open', 'Open Access', 'Operations research', 'Orders, decorations, and medals', 'Oregon Government & Politics Workgroup', 'Organismal Biomechanics', 'Organs', 'Oriental Orthodoxy', 'Orienteering', 'Osaka University', 'OutKast', 'Outlines', 'Oz', 'Pacifism', 'Pakistan Super League', 'Pakistani districts', 'Parenting', 'Past Political Scandals and Controversies', 'Pearl River Delta', 'Pedophilia Article Watch', 'People and culture department', 'People subpage', 'Percussion', 'Philadelphia Museum of Art', 'Philippine History', 'Philosophers', 'Philosophical literature', 'Philosophy of language', 'Philosophy of mind', 'Philosophy of religion', 'Philosophy of science', 'Phoenicia', 'Pinball', 'Pink Floyd', 'Pipe Organ', 'Pirate Politics', 'Pitcairn Islands work group', 'Pittsburgh Steelers', 'Plan 9', 'Pocket pets work group', 'Podcasting', 'Policy and Guidelines', 'Popular Culture', 'Porto', 'Powderfinger', 'Prescott-Russell', 'Pritzker Military Library', 'Private Equity', 'Professional sound production', 'Project management', 'Protected areas of India workgroup', 'Psychopathic Records', 'Pteridophytes', 'QRpedia', 'Qatar', 'Queen', 'Queens of the Stone Age', 'RNA', 'RUL', 'Rail transport in Jamaica', 'Railways component project', 'Ras al-Khaimah work group', 'Record Charts', 'Record Production', 'Red Hot Chili Peppers', 'Redwall', 'Reference Desk Article Collaboration', 'Regional and national music', 'Reliability', 'Religious Buildings, Architecture and Monasticism', 'Religious Society of Friends (Quakers)', 'Religious leaders work group', 'Republika Srpska', 'Requested articles', 'Resource Exchange', 'Richmond, Virginia', 'Rihanna', 'Rivers State work group', 'Road transport', 'Role-playing games', 'Roman Curia', 'Romance', 'Romani people', 'Ross Dependency work group', 'Royal Society', \"RuPaul's Drag Race\", 'Rufus Wainwright', 'Saint Barthelemy work group', 'Saint Helena work group', 'Saint Martin work group', 'Saint Pierre and Miquelon work group', 'San Diego', 'San Francisco 49ers', 'Santa Barbara County', 'Science Policy', 'Scientific modeling', 'Scottish Royalty', 'Scouting for Girls', 'Screencast', 'Scuba diving', 'Sea Monsters', 'Seamounts', 'Secret Societies', 'Selena Gomez', 'Seventh-day Adventist Church', 'Shakira', 'Shaktism', 'Sharjah work group', 'Shenzhen work group', 'Sherlock Holmes', 'Shirley Jackson', 'Shropshire', 'Sia', 'Sicily', 'Sindh', 'Sinhalese Monarchy', 'Slayer', 'Sleight of Hand', 'Slipknot', 'Smithsonian Institution Archives', 'Smithsonian Institution WikiProject', 'Smithsonian Institution-related', 'Snooker', 'Social Housing in the United Kingdom', 'Social Work', 'Social and political philosophy', 'Social systems theory', 'Software engineering', 'Somaliland', 'South Georgia and the South Sandwich Islands work group', 'South Park', 'Space', 'Space Colonization', 'Spanish Africa work group', 'Spider-Man work group', 'Spoken Wikipedia', 'Square Enix', 'Squash', 'Squatting', 'Sri Lanka Reconciliation', 'Stamford', 'Stanford University', 'State University System of Florida', 'Stations', 'Streetcars', 'Stub sorting', 'Superman work group', 'Supplement', 'Swami Vivekananda', 'Symbolism and Art Nouveau', 'Syriac Christianity work group', 'Systems biology', 'Systems ecology', 'Systems engineering', 'Systems psychology', 'Systems theory', 'TCR Series', 'TUGS', 'Tamil Eelam', 'Tampa Bay Buccaneers', 'TarfayaPedia', 'Taylor Swift', 'Tel Aviv', 'Temperance and Prohibition', 'Texas Tech University', 'Textile Arts', 'Teylers', 'The Clash', 'The Football League: Season-By-Season', 'The KLF', 'The Kinks', 'The National Archives', 'The Rolling Stones', 'The Script', 'The Supremes', 'Thelema', 'Theology', 'Thomas', 'Tibet', 'TikTok', 'Timeline Tracer', 'Tirana', 'Tokelau work group', 'Tokusatsu', 'Toodyaypedia', 'Tool', 'Trains in Japan', 'Transcendental Meditation movement', 'Transhumanism', 'Translation studies', 'Transport in India workgroup', 'Travel and Tourism', 'Trucks', 'Turkey (Anatolian Civilizations)', 'Turks and Caicos Islands work group', 'U.S. Presidents', 'U.S. Route 66', 'U.S. Routes', 'U.S. Streets', 'U.S. Virgin Islands', 'U2', 'UK Parliament constituencies', 'UK Theme Parks (inactive)', 'UK Trams', 'Ukrainian Football WikiProject', 'Umm al-Quwain work group', 'Unassessed', 'Unique Identifiers', 'Unitarian Universalism work group', 'United States Coast Guard Auxiliary', 'United States Virgin Islands work group', 'United States comics work group', 'University of Belgrade', 'University of California Riverside Libraries', 'University of Cambridge', 'University of Central Florida', 'University of Connecticut', 'University of Florida', 'University of Houston', 'University of Southern California', 'University of the Philippines', 'Unrecognized countries', 'Urban Debate', 'Usability', 'Van Halen', 'Vandy', 'Veganism and Vegetarianism', 'Version 0.5', 'Version 0.7', 'Version 1.0', 'View Askew', 'Villages', 'Virginia Tech', 'Visibility Project', 'Visualization', 'Vital Articles', 'Vital articles', 'Wake Island work group', 'Wallis and Futuna work group', 'Warhammer 40,000', 'Warriors', 'Washington Football Team', 'Water Margin', 'Water polo work group', 'Waterfalls', 'Webcomics work group', 'Western Australia Gascoyne', 'Western Australia Goldfields-Esperance', 'Western Australia Great Southern', 'Western Australia Kimberley', 'Western Australia Mid West', 'Western Australia Peel', 'Western Australia Pilbara', 'Western Australia South West', 'Western Australian Wheatbelt', 'Westerns', 'Wiki Loves Women', 'WikiAfrica Schools', 'WikiFun Police', 'WikiProject Abu Dhabi', 'WikiProject American music', 'WikiProject Animation - American animation work group', 'WikiProject Anishinaabe', 'WikiProject Archives of American Art', 'WikiProject Arkansas - University of Arkansas', 'WikiProject Arminianism', 'WikiProject Atlanta Braves', 'WikiProject Australian basketball', 'WikiProject Australian rules football', 'WikiProject Bahrain', 'WikiProject Balochistan, Pakistan', 'WikiProject Boston Red Sox', 'WikiProject Calvinism', 'WikiProject Catalonia', 'WikiProject Charismatic Christianity', 'WikiProject Chemicals worklist', 'WikiProject Chicago Cubs', 'WikiProject Chinese in New York City', 'WikiProject Christian Metal', 'WikiProject Christian history', 'WikiProject Cincinnati Reds', 'WikiProject Climate change', 'WikiProject College baseball', 'WikiProject Comics - United States comics work group', 'WikiProject Demographics of Australia', 'WikiProject District of Columbia - Washington Metro', 'WikiProject Dubai', 'WikiProject Eastern Orthodoxy', 'WikiProject Education in the United Arab Emirates', 'WikiProject Evangelical Christianity', 'WikiProject Geography of the United Arab Emirates', 'WikiProject Georgia', 'WikiProject Hindu philosophy', 'WikiProject History of photography', 'WikiProject Holiness movement', 'WikiProject Indian maps', 'WikiProject Indian railways', 'WikiProject Indiana - Indianapolis', 'WikiProject Indiana - Notre Dame', 'WikiProject Islam in China', \"WikiProject Jehovah's Witnesses\", 'WikiProject Jordan', 'WikiProject Karachi', 'WikiProject Krishnaism', 'WikiProject Kuwait', 'WikiProject Latter Day Saint movement', 'WikiProject Los Angeles Angels of Anaheim', 'WikiProject Los Angeles Dodgers', 'WikiProject Louisiana - Louisiana Tech', 'WikiProject Louisiana - New Orleans', 'WikiProject Louisiana - Shreveport', 'WikiProject Mangalore', 'WikiProject Massachusetts - Boston', 'WikiProject Massachusetts - Cape Cod and the Islands', 'WikiProject Massachusetts - Lowell', 'WikiProject Massachusetts - University of Massachusetts', 'WikiProject Mecca', 'WikiProject Microsoft Windows', 'WikiProject Minnesota Twins', 'WikiProject Missouri - Washington University in St. Louis', 'WikiProject Myanmar (Burma)', 'WikiProject National Institutes of Health', 'WikiProject Nebraska - Omaha', 'WikiProject New Hampshire - Dartmouth College', 'WikiProject New Jersey - Rutgers', 'WikiProject New Jersey - Seton Hall University', 'WikiProject New York City Public Transportation', 'WikiProject New York Yankees', 'WikiProject New Zealand Railways', 'WikiProject Noongar', 'WikiProject North Carolina - Charlotte', 'WikiProject North Carolina - Durham', 'WikiProject North Carolina - East Carolina University', 'WikiProject North Carolina - North Carolina State University', 'WikiProject North Carolina - University of North Carolina at Chapel Hill', 'WikiProject North Korea', 'WikiProject Northern Emirates', 'WikiProject Ohio - Youngstown', 'WikiProject Oman', 'WikiProject Oriental Orthodoxy', 'WikiProject Pakistani cities', 'WikiProject Pakistani districts', 'WikiProject Philadelphia Phillies', 'WikiProject Poker', 'WikiProject Political parties and politicians in Canada', 'WikiProject Qatar', 'WikiProject Rapid transit', 'WikiProject Religious Society of Friends (Quakers)', 'WikiProject Saivism', 'WikiProject San Antonio', 'WikiProject San Diego Padres', 'WikiProject San Marino (defunct)', 'WikiProject Saskatchewan communities', 'WikiProject Seattle Mariners', 'WikiProject September 11, 2001', 'WikiProject Seventh-day Adventist Church', 'WikiProject Shaktism', 'WikiProject Sherlock Holmes', 'WikiProject Sindh', 'WikiProject South Carolina - Myrtle Beach', 'WikiProject South Korea', 'WikiProject South Sudan', 'WikiProject St. Louis Cardinals', 'WikiProject State University of New York', 'WikiProject Stations', 'WikiProject Streetcars', 'WikiProject Superfund', 'WikiProject Swaminarayan', 'WikiProject Tel Aviv', 'WikiProject Telangana', 'WikiProject Texas - Austin', 'WikiProject Texas - Texas A&M', 'WikiProject Texas - Texas Tech University', 'WikiProject Texas - University of North Texas', 'WikiProject Texas - University of Texas at Austin', 'WikiProject Thomas', 'WikiProject Toronto Blue Jays', 'WikiProject Trains in Japan', 'WikiProject Transport in the United Arab Emirates', 'WikiProject Turkish politics', 'WikiProject U.S. Government', 'WikiProject U.S. State Legislatures', 'WikiProject U.S. counties', 'WikiProject U.S. governors', 'WikiProject U.S. history', 'WikiProject U.S. presidential elections', 'WikiProject UK Railways', 'WikiProject UK Trams', 'WikiProject United Arab Emirati politics', 'WikiProject United Arab Emirati sport', 'WikiProject Vacations', 'WikiProject Washington - Seattle', 'Wikidata', 'Wikify', 'Wikipedia', 'Wikipedia 1.0', 'Wikipedia Primary School project', 'Wikipedia-Books', 'Wikisource', 'Wildfire', \"Women's Classical Committee\", \"Women's Health\", \"Women's football \", 'Worcestershire', 'World comics work group', 'Writing', 'Year of Science', 'Yoga', 'York Museums Trust', 'Yoruba', 'Yours', 'Youth model government', 'Yu-Gi-Oh!', 'adopt an astronaut', 'aerospace biography project', 'aircraft project', 'airline project', 'airport project', 'architecture\\\\nassess-date=December 2019', 'army', 'arts', 'arts and entertainment work group', 'biographical subproject', 'blood', 'cardiac', 'cell', 'civil', 'company', 'company subproject', 'cuisine', 'culture', 'culture subproject', 'digestion', 'droughts and fire events sub-project', 'economy', 'education subproject', 'floods sub-project', 'food', 'gliding project', 'healthcare', 'history subproject', 'liberalism', 'list of 1000 vital Catalan-related articles', 'media subproject', 'meta', 'military biography work group', 'navy', 'neighborhood subproject', 'neuro', 'one or more inactive working groups', 'organization', 'physical geography subproject', 'politics and government work group', 'railways', 'renal', 'reproduction', 'respiratory', 'road', 'rotorcraft project', 'school', 'science and academia work group', 'socialwork', 'space stations working group', 'sports and games work group', 'sports subproject', 'structure subproject', 'subproject', 'theology work group', 'timeline of spaceflight working group', 'transportation subproject', 'weather data, products and instrumentation sub-project']\n",
      "Topic distribution: {3: 1381644, 4: 747449, 1: 937522, 2: 2120530, 8: 15986, 14: 35, 5: 320517, 7: 46656, 6: 121486, 0: 270312, 9: 5637, 11: 688, 10: 1760, 12: 243, 13: 80, 16: 15, 15: 27, 17: 4, 20: 1, 18: 6}\n"
     ]
    }
   ],
   "source": [
    "topic_counts = [(t, topic_counts[t]) for t in sorted(topic_counts, key=topic_counts.get, reverse=True)]\n",
    "if db == 'enwiki':\n",
    "    topic_counts = [t[0] for t in topic_counts if\n",
    "                    t[1] == 0 and 'task' not in t[0].lower() and 'force' not in t[0].lower()]\n",
    "    print(\"WikiProjects w/o topics:\", sorted(topic_counts))\n",
    "else:\n",
    "    topic_counts = [t[0] for t in topic_counts if\n",
    "                    t[1] > 0 and 'task' not in t[0].lower() and 'force' not in t[0].lower()]\n",
    "    print(\"WikiProjects w/ topics:\", sorted(topic_counts))\n",
    "\n",
    "print(\"Topic distribution:\", topic_dist)"
   ]
  },
  {
   "cell_type": "code",
   "execution_count": 23,
   "metadata": {},
   "outputs": [
    {
     "name": "stdout",
     "output_type": "stream",
     "text": [
      "------> ./groundtruth/labeled_enwiki_with_topics_metadata.json.bz2 <------\n",
      "{\"wp_templates\": [\"Alternative Views\", \"Anarchism\", \"Libertarianism\", \"Philosophy\", \"Philosophy/Anarchism\", \"Philosophy/Contemporary philosophy\", \"Philosophy/Modern philosophy\", \"Philosophy/Social and political philosophy\", \"Politics\", \"Politics/Liberalism task force\", \"Socialism\", \"Sociology\", \"Wikipedia 1.0\", \"Wikipedia 1.0/Version 0.5\", \"Wikipedia 1.0/Vital articles\"], \"article_revid\": 1001500220, \"title\": \"Anarchism\", \"talk_pid\": 416541, \"talk_revid\": 1001050151, \"sitelinks\": {\"huwiki\": 23360, \"xmfwiki\": 25422, \"vepwiki\": 26233, \"jvwiki\": 1826, \"ltwiki\": 9660, \"bewiki\": 1307, \"mwlwiki\": 804, \"jamwiki\": 111, \"jbowiki\": 5591, \"bawiki\": 66139, \"azwiki\": 116205, \"mywiki\": 24051, \"alswiki\": 36011, \"hrwiki\": 12913, \"hywiki\": 83723, \"pmswiki\": 87742, \"mswiki\": 8448, \"kawiki\": 30705, \"bswiki\": 4522, \"fawiki\": 61138, \"mgwiki\": 190863, \"srwiki\": 1911, \"vecwiki\": 28405, \"pswiki\": 9824, \"zawiki\": 9976, \"yiwiki\": 20972, \"arwiki\": 23571, \"nlwiki\": 11036, \"inhwiki\": 7168, \"ladwiki\": 6437, \"dawiki\": 40832, \"swwiki\": 16420, \"kowiki\": 10071, \"afwiki\": 40617, \"plwiki\": 25, \"rowiki\": 23210, \"lawiki\": 46648, \"sqwiki\": 244326, \"zh_min_nanwiki\": 2893, \"astwiki\": 4935, \"pdcwiki\": 2614, \"lbwiki\": 68866, \"frwiki\": 178, \"ruewiki\": 439, \"ugwiki\": 9896, \"arzwiki\": 6253, \"sahwiki\": 4563, \"cewiki\": 535104, \"jawiki\": 1430709, \"zh_yuewiki\": 33477, \"eowiki\": 141, \"bat_smgwiki\": 17522, \"iawiki\": 19893, \"mznwiki\": 30484, \"newiki\": 109185, \"svwiki\": 149, \"ttwiki\": 179339, \"be_x_oldwiki\": 46055, \"skwiki\": 959, \"viwiki\": 307178, \"hewiki\": 2556, \"lvwiki\": 92502, \"lezwiki\": 7281, \"kkwiki\": 11341, \"idwiki\": 20018, \"bnwiki\": 10263, \"pnbwiki\": 89721, \"mnwiki\": 7127, \"wawiki\": 46705, \"trwiki\": 21889, \"extwiki\": 6524, \"eswiki\": 2190809, \"gdwiki\": 3424, \"bxrwiki\": 7276, \"itwiki\": 22305, \"tawiki\": 50215, \"elwiki\": 23932, \"warwiki\": 17538, \"kwwiki\": 11537, \"iowiki\": 51845, \"guwiki\": 109269, \"hifwiki\": 6916, \"azbwiki\": 25824, \"diqwiki\": 13, \"mkwiki\": 5149, \"nowiki\": 31, \"kywiki\": 16883, \"pawiki\": 60813, \"mlwiki\": 144096, \"ukwiki\": 12101, \"anwiki\": 10686, \"uzwiki\": 446345, \"glkwiki\": 16854, \"mrwiki\": 96651, \"etwiki\": 18473, \"zh_classicalwiki\": 79449, \"tlwiki\": 87382, \"bowiki\": 7747, \"hiwiki\": 484509, \"dewiki\": 24409, \"ilowiki\": 15681, \"fywiki\": 20043, \"fiwiki\": 7556, \"zhwiki\": 87200, \"thwiki\": 5556, \"euwiki\": 3036, \"fiu_vrowiki\": 10342, \"lfnwiki\": 2244, \"simplewiki\": 4807, \"cswiki\": 12682, \"shwiki\": 1914, \"brwiki\": 46376, \"ruwiki\": 3021, \"gcrwiki\": 1052, \"tgwiki\": 17604, \"ocwiki\": 31277, \"scowiki\": 4148, \"cawiki\": 15902, \"glwiki\": 1248, \"wuuwiki\": 46443, \"iswiki\": 5150, \"aswiki\": 40688, \"ptwiki\": 230, \"amwiki\": 49773, \"urwiki\": 4927, \"cywiki\": 21206, \"enwiki\": 12, \"krcwiki\": 2123, \"gawiki\": 30554, \"slwiki\": 18204, \"fowiki\": 8127, \"bgwiki\": 10687, \"nnwiki\": 10770, \"angwiki\": 16963, \"liwiki\": 27362, \"ckbwiki\": 1859, \"knwiki\": 27603, \"lmowiki\": 222039, \"lowiki\": 8608}, \"qid\": \"Q6199\", \"topics\": [\"Culture.Philosophy and religion\", \"History and Society.Politics and government\", \"History and Society.Society\"]}\n",
      "{\"wp_templates\": [\"Autism\", \"Disability\", \"Medicine\", \"Medicine/Medical genetics task force\", \"Medicine/Neurology task force\", \"Neuroscience\", \"Psychology\", \"Spoken Wikipedia\", \"Wikipedia 1.0\", \"Wikipedia 1.0/Version 0.5\", \"Wikipedia 1.0/Vital articles\"], \"article_revid\": 1002472779, \"title\": \"Autism\", \"talk_pid\": 44741, \"talk_revid\": 1002113504, \"sitelinks\": {\"iowiki\": 17428, \"jawiki\": 1498649, \"mkwiki\": 124097, \"newiki\": 48493, \"dvwiki\": 9342, \"lfnwiki\": 4954, \"orwiki\": 42255, \"bewiki\": 63920, \"fawiki\": 284662, \"scowiki\": 178483, \"ocwiki\": 142089, \"bnwiki\": 36197, \"kawiki\": 9091, \"cywiki\": 10111, \"ckbwiki\": 150574, \"azbwiki\": 18783, \"kowiki\": 54834, \"euwiki\": 43884, \"arwiki\": 95715, \"tlwiki\": 111298, \"ptwiki\": 5982659, \"knwiki\": 110906, \"nowiki\": 71663, \"hewiki\": 1749772, \"hiwiki\": 43936, \"gawiki\": 5388, \"trwiki\": 5606, \"elwiki\": 57388, \"ukwiki\": 37656, \"cswiki\": 103237, \"brwiki\": 76519, \"shwiki\": 42646, \"bswiki\": 20794, \"pdcwiki\": 9941, \"sqwiki\": 37295, \"jvwiki\": 71390, \"xhwiki\": 4764, \"zh_yuewiki\": 78029, \"pawiki\": 121598, \"tgwiki\": 18942, \"svwiki\": 207474, \"iswiki\": 106435, \"skwiki\": 43818, \"huwiki\": 34401, \"srwiki\": 299847, \"iawiki\": 7681, \"nlwiki\": 25414, \"itwiki\": 2100376, \"kuwiki\": 10080, \"sowiki\": 18589, \"fowiki\": 32231, \"tawiki\": 6979, \"viwiki\": 60828, \"scwiki\": 12029, \"jamwiki\": 2568, \"simplewiki\": 8248, \"azwiki\": 95658, \"eswiki\": 8494295, \"wawiki\": 26387, \"rowiki\": 446062, \"tkwiki\": 13044, \"eowiki\": 63800, \"enwiki\": 25, \"dawiki\": 100042, \"slwiki\": 213681, \"bat_smgwiki\": 18978, \"arywiki\": 585, \"hywiki\": 9198, \"kkwiki\": 84318, \"glwiki\": 128180, \"be_x_oldwiki\": 90293, \"zhwiki\": 72463, \"gcrwiki\": 2382, \"mlwiki\": 27294, \"idwiki\": 47724, \"ruwiki\": 143433, \"afwiki\": 47885, \"mswiki\": 2612, \"zh_min_nanwiki\": 410613, \"suwiki\": 35104, \"thwiki\": 225795, \"frwiki\": 1450217, \"etwiki\": 156362, \"swwiki\": 55356, \"plwiki\": 58572, \"hywwiki\": 7620, \"bgwiki\": 140441, \"hrwiki\": 123423, \"mrwiki\": 150477, \"kywiki\": 18398, \"ltwiki\": 98564, \"cawiki\": 133051, \"wuuwiki\": 61102, \"lvwiki\": 58345, \"fiwiki\": 13605, \"lawiki\": 40365, \"warwiki\": 1983624, \"jbowiki\": 2372, \"dewiki\": 428}, \"qid\": \"Q38404\", \"topics\": [\"History and Society.Society\", \"STEM.Biology\", \"STEM.Medicine & Health\", \"STEM.STEM*\"]}\n",
      "{\"wp_templates\": [\"Astronomy\", \"Climate change\", \"Environment\", \"Physics\"], \"article_revid\": 997475691, \"title\": \"Albedo\", \"talk_pid\": 47435, \"talk_revid\": 968369000, \"sitelinks\": {\"skwiki\": 32213, \"etwiki\": 11315, \"afwiki\": 79816, \"kywiki\": 50887, \"mlwiki\": 320048, \"svwiki\": 38187, \"ptwiki\": 43322, \"plwiki\": 39524, \"nlwiki\": 51878, \"rowiki\": 80094, \"euwiki\": 9316, \"cswiki\": 14164, \"astwiki\": 12467, \"bewiki\": 144399, \"viwiki\": 1750594, \"thwiki\": 956699, \"fawiki\": 358736, \"kowiki\": 40858, \"slwiki\": 94146, \"wuuwiki\": 64280, \"bgwiki\": 10545, \"hrwiki\": 12960, \"cawiki\": 33027, \"ltwiki\": 102684, \"dewiki\": 354, \"kkwiki\": 37276, \"cywiki\": 59400, \"lawiki\": 113554, \"hewiki\": 64308, \"ruwiki\": 73879, \"kawiki\": 157871, \"zhwiki\": 553658, \"azwiki\": 418073, \"srwiki\": 25300, \"elwiki\": 12745, \"simplewiki\": 76367, \"lmowiki\": 224836, \"mkwiki\": 119472, \"knwiki\": 62723, \"cewiki\": 14767, \"alswiki\": 7708, \"bnwiki\": 26402, \"tawiki\": 32794, \"ttwiki\": 176445, \"htwiki\": 60601, \"eswiki\": 10440, \"dawiki\": 28999, \"nnwiki\": 5333, \"enwiki\": 39, \"itwiki\": 12644, \"mswiki\": 433240, \"huwiki\": 54319, \"ocwiki\": 134168, \"idwiki\": 245501, \"hiwiki\": 382754, \"zh_yuewiki\": 186440, \"shwiki\": 42102, \"uzwiki\": 445912, \"ndswiki\": 9859, \"glwiki\": 17323, \"lbwiki\": 35744, \"gawiki\": 44322, \"lvwiki\": 72574, \"iswiki\": 152492, \"hywiki\": 67140, \"sqwiki\": 87716, \"jawiki\": 22120, \"bswiki\": 8123, \"ukwiki\": 10899, \"trwiki\": 97977, \"anwiki\": 91806, \"eowiki\": 19388, \"arwiki\": 817232, \"frwiki\": 14005, \"fiwiki\": 12351, \"suwiki\": 72647, \"nowiki\": 20681}, \"qid\": \"Q101038\", \"topics\": [\"STEM.Earth and environment\", \"STEM.Physics\", \"STEM.STEM*\", \"STEM.Space\"]}\n",
      "{\"wp_templates\": [\"Writing systems\"], \"article_revid\": 1002595163, \"title\": \"A\", \"talk_pid\": 2554, \"talk_revid\": 1002569880, \"sitelinks\": {\"fawiki\": 91945, \"ttwiki\": 58453, \"kwwiki\": 2556, \"diqwiki\": 7183, \"viwiki\": 673, \"napwiki\": 57571, \"frwiki\": 30293, \"scnwiki\": 388, \"warwiki\": 112192, \"gnwiki\": 7650, \"tawiki\": 259722, \"vepwiki\": 3922, \"thwiki\": 50304, \"wuuwiki\": 49701, \"simplewiki\": 8, \"hrwiki\": 20635, \"ilowiki\": 706, \"cawiki\": 53, \"iawiki\": 10025, \"itwiki\": 1406714, \"bat_smgwiki\": 6421, \"bgwiki\": 101695, \"yowiki\": 598, \"igwiki\": 7509, \"cowiki\": 3457, \"iowiki\": 7765, \"ruwiki\": 61543, \"slwiki\": 10239, \"plwiki\": 1600567, \"nowiki\": 318725, \"iswiki\": 27338, \"ocwiki\": 136869, \"arwiki\": 77, \"csbwiki\": 7315, \"angwiki\": 18976, \"elwiki\": 95, \"kvwiki\": 13283, \"bclwiki\": 14833, \"hsbwiki\": 39244, \"anwiki\": 13777, \"barwiki\": 12263, \"skwiki\": 77496, \"mswiki\": 47787, \"nlwiki\": 564249, \"alswiki\": 2308, \"uzwiki\": 1890, \"bnwiki\": 380586, \"svwiki\": 154, \"dewiki\": 7879, \"frrwiki\": 14046, \"amwiki\": 42534, \"eswiki\": 6416302, \"xalwiki\": 5386, \"map_bmswiki\": 29677, \"zh_yuewiki\": 5297, \"gdwiki\": 4631, \"lfnwiki\": 4560, \"zh_min_nanwiki\": 11853, \"jvwiki\": 45996, \"srwiki\": 184722, \"cywiki\": 12206, \"suwiki\": 32649, \"glwiki\": 25, \"swwiki\": 13785, \"inhwiki\": 1977, \"zhwiki\": 1801, \"tlwiki\": 2270, \"fowiki\": 21217, \"srnwiki\": 471, \"sdwiki\": 35678, \"brwiki\": 15827, \"azbwiki\": 41587, \"quwiki\": 1, \"jawiki\": 13618, \"shwiki\": 82732, \"nahwiki\": 6810, \"tkwiki\": 2671, \"ckbwiki\": 27032, \"gvwiki\": 10988, \"lawiki\": 39, \"rowiki\": 1818, \"vowiki\": 232846, \"bswiki\": 46088, \"mhrwiki\": 9137, \"hewiki\": 5305, \"tgwiki\": 144314, \"stqwiki\": 2014, \"kawiki\": 43432, \"wawiki\": 40477, \"sewiki\": 4633, \"enwiki\": 290, \"euwiki\": 15863, \"arcwiki\": 1929, \"cswiki\": 2062, \"ganwiki\": 1111, \"acewiki\": 2033, \"mywiki\": 9268, \"extwiki\": 8120, \"idwiki\": 383810, \"snwiki\": 11490, \"dawiki\": 9, \"lmowiki\": 145177, \"guwiki\": 65991, \"gorwiki\": 4567, \"szlwiki\": 1535, \"tumwiki\": 4507, \"ukwiki\": 235422, \"astwiki\": 19692, \"trwiki\": 38448, \"xmfwiki\": 30755, \"pawiki\": 23675, \"htwiki\": 4159, \"eowiki\": 8850, \"pagwiki\": 7882, \"scowiki\": 53551, \"gawiki\": 57364, \"mrwiki\": 74058, \"bawiki\": 4733, \"mgwiki\": 5107, \"emlwiki\": 98, \"fjwiki\": 7436, \"afwiki\": 23305, \"nnwiki\": 6756, \"lijwiki\": 17295, \"furwiki\": 3093, \"huwiki\": 1300, \"lvwiki\": 37855, \"vecwiki\": 33643, \"tewiki\": 144020, \"cdowiki\": 10124, \"bewiki\": 45144, \"azwiki\": 8616, \"crhwiki\": 2187, \"hywiki\": 79405, \"scwiki\": 10412, \"dvwiki\": 2020, \"banwiki\": 7697, \"kowiki\": 668, \"mlwiki\": 71171, \"urwiki\": 532944, \"fywiki\": 23101, \"etwiki\": 80, \"dinwiki\": 1037, \"fiwiki\": 3814, \"be_x_oldwiki\": 84749, \"cvwiki\": 55089, \"lbwiki\": 50401, \"ptwiki\": 7280, \"yiwiki\": 27585, \"mkwiki\": 63832, \"nrmwiki\": 1987, \"hawiki\": 10258, \"kuwiki\": 9108}, \"qid\": \"Q9659\", \"topics\": [\"Culture.Linguistics\"]}\n",
      "{\"wp_templates\": [\"Alabama\", \"Geography\", \"United States\", \"Wikipedia 1.0\", \"Wikipedia 1.0/Version 0.7\"], \"article_revid\": 1002488685, \"title\": \"Alabama\", \"talk_pid\": 1284, \"talk_revid\": 991421631, \"sitelinks\": {\"guwiki\": 28795, \"mwlwiki\": 775, \"bclwiki\": 3235, \"be_x_oldwiki\": 103719, \"svwiki\": 7724, \"lmowiki\": 129328, \"htwiki\": 4007, \"mnwiki\": 9486, \"hawiki\": 10219, \"cowiki\": 8599, \"bewiki\": 74562, \"jvwiki\": 26046, \"cbk_zamwiki\": 19996, \"miwiki\": 4810, \"kuwiki\": 15940, \"huwiki\": 33186, \"kawiki\": 2289, \"kowiki\": 1988981, \"smwiki\": 5312, \"pmswiki\": 6754, \"kabwiki\": 8514, \"zh_yuewiki\": 79354, \"ocwiki\": 12055, \"itwiki\": 691343, \"mlwiki\": 3374, \"tgwiki\": 217127, \"ptwiki\": 22676, \"ganwiki\": 33723, \"eswiki\": 29117, \"minwiki\": 317846, \"quwiki\": 34056, \"papwiki\": 3371, \"trwiki\": 17144, \"enwiki\": 303, \"kaawiki\": 4067, \"liwiki\": 18308, \"kbpwiki\": 2642, \"ikwiki\": 2060, \"nawiki\": 5989, \"lbwiki\": 15048, \"euwiki\": 8203, \"scnwiki\": 13430, \"newiki\": 23064, \"gagwiki\": 39, \"xalwiki\": 5463, \"kwwiki\": 3258, \"iswiki\": 21243, \"cawiki\": 31890, \"fowiki\": 9106, \"jawiki\": 11058, \"crhwiki\": 25678, \"astwiki\": 8431, \"wuuwiki\": 28134, \"napwiki\": 20942, \"swwiki\": 22069, \"diqwiki\": 3359, \"hrwiki\": 25488, \"mgwiki\": 4356, \"pamwiki\": 3080, \"srwiki\": 1563, \"biwiki\": 2284, \"etwiki\": 9408, \"fawiki\": 6694, \"warwiki\": 8671, \"iuwiki\": 4583, \"piwiki\": 1863, \"anwiki\": 16237, \"bnwiki\": 8693, \"lvwiki\": 3311, \"fywiki\": 17841, \"tewiki\": 48599, \"azwiki\": 19753, \"xhwiki\": 5990, \"idwiki\": 4873, \"gnwiki\": 6740, \"cywiki\": 9071, \"scowiki\": 37973, \"knwiki\": 20030, \"hewiki\": 9851, \"thwiki\": 15661, \"arcwiki\": 3563, \"bswiki\": 11087, \"shwiki\": 8366, \"pnbwiki\": 217, \"sqwiki\": 12995, \"hakwiki\": 988, \"zh_min_nanwiki\": 6521, \"newwiki\": 5177, \"cewiki\": 38148, \"nvwiki\": 17572, \"bgwiki\": 10290, \"barwiki\": 27271, \"tlwiki\": 25858, \"simplewiki\": 9287, \"iewiki\": 4178, \"zh_classicalwiki\": 76783, \"eowiki\": 194, \"jbowiki\": 114, \"vowiki\": 9117, \"mkwiki\": 5772, \"arwiki\": 16629, \"amwiki\": 38366, \"novwiki\": 8087, \"rowiki\": 81827, \"szlwiki\": 8735, \"xmfwiki\": 20906, \"lijwiki\": 3378, \"ruwiki\": 25088, \"frrwiki\": 399, \"rmwiki\": 8604, \"elwiki\": 141981, \"ilowiki\": 10844, \"skwiki\": 4107, \"mywiki\": 29473, \"zeawiki\": 11408, \"brwiki\": 20594, \"tawiki\": 18302, \"lrcwiki\": 5957, \"fiwiki\": 81, \"sawiki\": 11667, \"nahwiki\": 9711, \"bxrwiki\": 8333, \"nowiki\": 5859, \"arzwiki\": 17656, \"mrjwiki\": 5381, \"afwiki\": 32477, \"mznwiki\": 26059, \"cvwiki\": 11641, \"yowiki\": 13407, \"viwiki\": 33804, \"uzwiki\": 4131, \"cebwiki\": 5762149, \"ckbwiki\": 4043, \"nds_nlwiki\": 11978, \"gvwiki\": 7011, \"alswiki\": 73788, \"ndswiki\": 8296, \"kkwiki\": 419837, \"frwiki\": 7477, \"tkwiki\": 14220, \"mhrwiki\": 13010, \"zhwiki\": 66808, \"bowiki\": 9639, \"frpwiki\": 4779, \"ladwiki\": 5164, \"bawiki\": 68668, \"dewiki\": 48106, \"emlwiki\": 32045, \"ltwiki\": 10530, \"nlwiki\": 13754, \"maiwiki\": 13345, \"plwiki\": 97, \"iowiki\": 6215, \"hiwiki\": 11738, \"aywiki\": 6788, \"azbwiki\": 11236, \"siwiki\": 65901, \"urwiki\": 324591, \"angwiki\": 3518, \"mswiki\": 10312, \"bat_smgwiki\": 6545, \"stqwiki\": 8581, \"pawiki\": 20752, \"hsbwiki\": 30593, \"sahwiki\": 9422, \"gdwiki\": 1400, \"lawiki\": 6007, \"sewiki\": 14328, \"ugwiki\": 6954, \"mrwiki\": 23294, \"hawwiki\": 3881, \"sdwiki\": 42251, \"gawiki\": 6146, \"sowiki\": 6979, \"cdowiki\": 6814, \"ttwiki\": 15441, \"lfnwiki\": 2610, \"cswiki\": 29706, \"glwiki\": 7451, \"yiwiki\": 13399, \"ukwiki\": 6320, \"hifwiki\": 9908, \"igwiki\": 2806, \"iawiki\": 15593, \"nnwiki\": 15562, \"slwiki\": 22041, \"bpywiki\": 20069, \"oswiki\": 598, \"hywiki\": 4198, \"bhwiki\": 8099, \"dawiki\": 37688, \"scwiki\": 13019}, \"qid\": \"Q173\", \"topics\": [\"Geography.Geographical\", \"Geography.Regions.Americas.North America\"]}\n",
      "{\"wp_templates\": [\"Biography\", \"Biography/military biography work group\", \"Classical Greece and Rome\", \"Greece\", \"LGBT studies\", \"Military history\", \"Military history/Military biography task force\", \"Mythology\"], \"article_revid\": 1001989002, \"title\": \"Achilles\", \"talk_pid\": 543840, \"talk_revid\": 1000208370, \"sitelinks\": {\"zhwiki\": 39370, \"huwiki\": 12549, \"arwiki\": 2945, \"mkwiki\": 42589, \"shwiki\": 19295, \"azwiki\": 111556, \"brwiki\": 30488, \"lfnwiki\": 1844, \"lawiki\": 7226, \"itwiki\": 689674, \"azbwiki\": 65967, \"urwiki\": 6420, \"iawiki\": 24076, \"rowiki\": 20295, \"uzwiki\": 447709, \"thwiki\": 164605, \"fiwiki\": 35114, \"mywiki\": 114809, \"bawiki\": 106500, \"eowiki\": 26236, \"zh_yuewiki\": 177703, \"tlwiki\": 85889, \"slwiki\": 13933, \"bswiki\": 23929, \"scnwiki\": 26951, \"dewiki\": 13215, \"kowiki\": 13263, \"hrwiki\": 6546, \"idwiki\": 454334, \"vepwiki\": 12615, \"lbwiki\": 17660, \"euwiki\": 9645, \"glwiki\": 24071, \"scowiki\": 158007, \"cawiki\": 49203, \"bgwiki\": 68778, \"hiwiki\": 247147, \"cywiki\": 48611, \"astwiki\": 74885, \"tgwiki\": 146955, \"gawiki\": 29973, \"cswiki\": 76840, \"wuuwiki\": 51099, \"ukwiki\": 6437, \"mlwiki\": 123877, \"mswiki\": 986673, \"ocwiki\": 165585, \"enwiki\": 305, \"iswiki\": 33520, \"kawiki\": 14112, \"iowiki\": 41378, \"dawiki\": 30682, \"srwiki\": 21101, \"arzwiki\": 31720, \"ruwiki\": 53701, \"hewiki\": 2822, \"vecwiki\": 28052, \"mgwiki\": 214533, \"aswiki\": 34175, \"ptwiki\": 228, \"afwiki\": 45457, \"pawiki\": 28043, \"sqwiki\": 45738, \"mtwiki\": 2534, \"fywiki\": 54619, \"fawiki\": 13061, \"plwiki\": 12512, \"skwiki\": 23650, \"nlwiki\": 9194, \"anwiki\": 95913, \"knwiki\": 61610, \"kkwiki\": 509945, \"bnwiki\": 3288, \"tawiki\": 134489, \"trwiki\": 46156, \"elwiki\": 5708, \"simplewiki\": 29072, \"hywiki\": 40962, \"kywiki\": 49321, \"jawiki\": 6667, \"nowiki\": 52717, \"frwiki\": 46074, \"ruewiki\": 16136, \"viwiki\": 63669, \"eswiki\": 289, \"ltwiki\": 14568, \"ckbwiki\": 11065, \"svwiki\": 19740, \"etwiki\": 10946, \"bewiki\": 98405, \"kuwiki\": 85629, \"mrwiki\": 16879, \"lvwiki\": 25193, \"warwiki\": 159751}, \"qid\": \"Q41746\", \"topics\": [\"Culture.Biography.Biography*\", \"Culture.Literature\", \"Culture.Philosophy and religion\", \"Geography.Regions.Europe.Europe*\", \"Geography.Regions.Europe.Southern Europe\", \"History and Society.History\", \"History and Society.Military and warfare\", \"History and Society.Society\"]}\n",
      "{\"wp_templates\": [\"Biography\", \"Biography/Core biographies\", \"Biography/military biography work group\", \"Biography/politics and government work group\", \"Illinois\", \"Indiana Historical Society\", \"Military history\", \"Military history/American Civil War task force\", \"Military history/Military biography task force\", \"Military history/North American military history task force\", \"Military history/United States military history task force\", \"Politics\", \"Politics/American politics task force\", \"U.S. Congress\", \"United States\", \"United States/WikiProject Kentucky\", \"United States/WikiProject U.S. Government\", \"United States/WikiProject U.S. State Legislatures\", \"United States/WikiProject United States Presidents\", \"Wikipedia 1.0\", \"Wikipedia 1.0/Version 0.5\"], \"article_revid\": 1002782013, \"title\": \"Abraham_Lincoln\", \"talk_pid\": 2301, \"talk_revid\": 1002702584, \"sitelinks\": {\"miwiki\": 13195, \"cvwiki\": 61028, \"thwiki\": 215411, \"scnwiki\": 7764, \"bswiki\": 9538, \"eowiki\": 363, \"liwiki\": 37587, \"mnwiki\": 27021, \"dsbwiki\": 3463, \"tewiki\": 83384, \"frrwiki\": 31288, \"newwiki\": 1087, \"zhwiki\": 17200, \"pmswiki\": 22908, \"yiwiki\": 13787, \"siwiki\": 17338, \"knwiki\": 17892, \"gomwiki\": 8843, \"ruewiki\": 405, \"barwiki\": 5913, \"jawiki\": 1954694, \"gdwiki\": 13177, \"afwiki\": 50811, \"itwiki\": 20112, \"bnwiki\": 6313, \"ladwiki\": 11587, \"kmwiki\": 13142, \"rowiki\": 77943, \"hawiki\": 9020, \"mlwiki\": 71679, \"etwiki\": 24875, \"ukwiki\": 59710, \"enwiki\": 307, \"lfnwiki\": 3591, \"pnbwiki\": 73, \"shwiki\": 2702, \"nqowiki\": 427, \"fawiki\": 3734847, \"lmowiki\": 208001, \"nywiki\": 3654, \"glkwiki\": 14092, \"xmfwiki\": 4077, \"jamwiki\": 40, \"sahwiki\": 35132, \"lezwiki\": 6348, \"aywiki\": 6840, \"uzwiki\": 17342, \"nlwiki\": 11811, \"bxrwiki\": 8880, \"tawiki\": 23905, \"lvwiki\": 34247, \"gcrwiki\": 1015, \"mswiki\": 36665, \"elwiki\": 63689, \"zh_min_nanwiki\": 14261, \"frpwiki\": 13587, \"dawiki\": 1263, \"ndswiki\": 9586, \"cebwiki\": 39745, \"lbwiki\": 46273, \"jvwiki\": 21358, \"idwiki\": 13520, \"papwiki\": 2884, \"minwiki\": 324756, \"arzwiki\": 25308, \"hywwiki\": 3513, \"nnwiki\": 27673, \"huwiki\": 77386, \"hiwiki\": 36754, \"lijwiki\": 19124, \"urwiki\": 5568, \"kbpwiki\": 2978, \"brwiki\": 80764, \"anwiki\": 35156, \"yowiki\": 17807, \"viwiki\": 25821, \"mznwiki\": 9722, \"diqwiki\": 33922, \"cswiki\": 37398, \"iswiki\": 29014, \"mywiki\": 13084, \"bawiki\": 73012, \"gnwiki\": 10863, \"ltwiki\": 32489, \"hewiki\": 11063, \"dvwiki\": 4878, \"hrwiki\": 12721, \"mgwiki\": 189438, \"zh_yuewiki\": 30158, \"newiki\": 73520, \"lawiki\": 10073, \"cywiki\": 8390, \"ttwiki\": 23160, \"iowiki\": 17591, \"biwiki\": 4806, \"vepwiki\": 15140, \"ckbwiki\": 19043, \"alswiki\": 49078, \"bclwiki\": 6626, \"ptwiki\": 37308, \"oswiki\": 30491, \"zh_classicalwiki\": 77683, \"kkwiki\": 123102, \"srwiki\": 31302, \"stqwiki\": 9266, \"rwwiki\": 3484, \"tgwiki\": 11753, \"plwiki\": 14088, \"kwwiki\": 9261, \"bhwiki\": 60778, \"angwiki\": 3882, \"ganwiki\": 15099, \"rmwiki\": 2802, \"astwiki\": 17423, \"ruwiki\": 63315, \"skwiki\": 33307, \"cdowiki\": 27721, \"scwiki\": 10541, \"svwiki\": 9646, \"napwiki\": 24452, \"azbwiki\": 19159, \"nawiki\": 6141, \"cewiki\": 14227, \"gagwiki\": 8019, \"dewiki\": 141, \"lowiki\": 10140, \"vowiki\": 254202, \"frwiki\": 12309, \"quwiki\": 14461, \"zeawiki\": 9346, \"cawiki\": 35733, \"simplewiki\": 5414, \"euwiki\": 9685, \"slwiki\": 42075, \"warwiki\": 17958, \"arwiki\": 18761, \"maiwiki\": 144, \"hifwiki\": 5367, \"bat_smgwiki\": 24545, \"sawiki\": 5678, \"be_x_oldwiki\": 84495, \"fywiki\": 10125, \"kowiki\": 28256, \"lnwiki\": 10621, \"bewiki\": 2205, \"gawiki\": 5641, \"smwiki\": 4916, \"kywiki\": 8856, \"amwiki\": 11265, \"olowiki\": 2645, \"guwiki\": 108849, \"omwiki\": 4452, \"pawiki\": 40597, \"kawiki\": 8654, \"dtywiki\": 175, \"tlwiki\": 95182, \"ilowiki\": 6982, \"cowiki\": 5930, \"azwiki\": 72750, \"bgwiki\": 59240, \"swwiki\": 13657, \"sqwiki\": 8632, \"gvwiki\": 6776, \"hsbwiki\": 23903, \"ocwiki\": 10436, \"mrwiki\": 5899, \"htwiki\": 62971, \"iewiki\": 4230, \"eswiki\": 7901, \"scowiki\": 8830, \"glwiki\": 9938, \"pamwiki\": 5308, \"hywiki\": 17498, \"fiwiki\": 5694, \"hakwiki\": 2572, \"acewiki\": 19931, \"iawiki\": 29456, \"mkwiki\": 1773, \"trwiki\": 52759, \"wuuwiki\": 31337, \"nowiki\": 4829, \"zawiki\": 9905, \"fowiki\": 8429, \"kuwiki\": 49249}, \"qid\": \"Q91\", \"topics\": [\"Culture.Biography.Biography*\", \"Geography.Regions.Americas.North America\", \"History and Society.Military and warfare\", \"History and Society.Politics and government\"]}\n",
      "{\"wp_templates\": [\"Astronomy\", \"Astronomy/Cosmology Task Force\", \"Biography\", \"Biography/Core biographies\", \"Biography/science and academia work group\", \"Biology\", \"Classical Greece and Rome\", \"Education\", \"Greece\", \"History of Science\", \"Linguistics\", \"Linguistics/Philosophy of language task force\", \"Mathematics\", \"Philosophy\", \"Philosophy/Aesthetics\", \"Philosophy/Ancient philosophy\", \"Philosophy/Ethics\", \"Philosophy/Logic\", \"Philosophy/Metaphysics\", \"Philosophy/Philosophers\", \"Philosophy/Philosophy of language\", \"Physics\", \"Physics/Biographies Taskforce\", \"Physics/History Taskforce\", \"Politics\", \"Religion\", \"Theatre\", \"Theology\", \"Wikipedia 1.0\", \"Wikipedia 1.0/Version 0.5\", \"Wikipedia 1.0/Vital articles\"], \"article_revid\": 1002138819, \"title\": \"Aristotle\", \"talk_pid\": 18539950, \"talk_revid\": 1001995152, \"sitelinks\": {\"fiu_vrowiki\": 6820, \"bhwiki\": 11387, \"kaawiki\": 1068, \"scwiki\": 3551, \"olowiki\": 2713, \"bat_smgwiki\": 17889, \"mywiki\": 4747, \"iawiki\": 15962, \"kuwiki\": 10581, \"zh_min_nanwiki\": 8589, \"euwiki\": 2, \"be_x_oldwiki\": 14225, \"brwiki\": 22752, \"dtywiki\": 212, \"lmowiki\": 159854, \"nahwiki\": 11966, \"liwiki\": 29912, \"quwiki\": 9830, \"cywiki\": 14939, \"uzwiki\": 16713, \"suwiki\": 34676, \"mswiki\": 158491, \"dewiki\": 140, \"emlwiki\": 17021, \"fowiki\": 8437, \"kawiki\": 13218, \"anwiki\": 15457, \"bswiki\": 4210, \"pagwiki\": 223, \"lvwiki\": 1217, \"mrjwiki\": 199, \"siwiki\": 10509, \"amwiki\": 19873, \"pnbwiki\": 121, \"ndswiki\": 3240, \"cuwiki\": 7466, \"astwiki\": 10012, \"mgwiki\": 190223, \"newwiki\": 1122, \"nlwiki\": 24, \"cvwiki\": 8696, \"bgwiki\": 10688, \"guwiki\": 8313, \"warwiki\": 15208, \"bnwiki\": 6372, \"simplewiki\": 4494, \"shwiki\": 1885, \"gomwiki\": 7835, \"sdwiki\": 19043, \"iowiki\": 16318, \"map_bmswiki\": 15048, \"vowiki\": 239924, \"maiwiki\": 176, \"ttwiki\": 15233, \"vepwiki\": 68, \"zh_classicalwiki\": 76611, \"swwiki\": 16392, \"mtwiki\": 2930, \"tkwiki\": 16160, \"arwiki\": 3604, \"omwiki\": 5218, \"sahwiki\": 4434, \"ocwiki\": 55744, \"zhwiki\": 676, \"cdowiki\": 55, \"nowiki\": 50, \"sqwiki\": 4877, \"gdwiki\": 3528, \"tewiki\": 68521, \"azwiki\": 8645, \"cawiki\": 128, \"bclwiki\": 14596, \"kkwiki\": 11514, \"bewiki\": 14522, \"fiwiki\": 11146, \"hifwiki\": 4952, \"afwiki\": 30458, \"lezwiki\": 6651, \"ruwiki\": 1218, \"frrwiki\": 21247, \"mznwiki\": 4004, \"kywiki\": 13361, \"extwiki\": 298, \"chrwiki\": 6471, \"lldwiki\": 114, \"huwiki\": 1550, \"kowiki\": 2276, \"ptwiki\": 302, \"cowiki\": 14847, \"hiwiki\": 26942, \"tawiki\": 1580, \"lbwiki\": 20332, \"ukwiki\": 3658, \"slwiki\": 422, \"lfnwiki\": 1957, \"iswiki\": 20694, \"sawiki\": 15375, \"tcywiki\": 3611, \"hywiki\": 6471, \"yiwiki\": 13727, \"orwiki\": 18935, \"svwiki\": 19, \"idwiki\": 2961, \"wawiki\": 38901, \"gawiki\": 5749, \"alswiki\": 16879, \"tgwiki\": 5439, \"zeawiki\": 8100, \"dawiki\": 29131, \"ruewiki\": 467, \"roa_rupwiki\": 11230, \"hewiki\": 494, \"oswiki\": 14509, \"bxrwiki\": 7181, \"cebwiki\": 38840, \"lijwiki\": 10484, \"diqwiki\": 9841, \"eowiki\": 10, \"jbowiki\": 5375, \"ckbwiki\": 7884, \"viwiki\": 16237, \"hywwiki\": 2064, \"ilowiki\": 16914, \"hrwiki\": 4670, \"gorwiki\": 2275, \"xhwiki\": 4497, \"nrmwiki\": 10994, \"mrwiki\": 191434, \"gcrwiki\": 1082, \"wuuwiki\": 28964, \"pawiki\": 19377, \"mwlwiki\": 838, \"jamwiki\": 141, \"xmfwiki\": 146, \"novwiki\": 179, \"itwiki\": 684871, \"jvwiki\": 2017, \"minwiki\": 180, \"kabwiki\": 508, \"sewiki\": 18390, \"yowiki\": 9628, \"mkwiki\": 1474, \"aswiki\": 35163, \"cewiki\": 13622, \"ladwiki\": 4692, \"zh_yuewiki\": 53495, \"ganwiki\": 15032, \"angwiki\": 11729, \"iewiki\": 4031, \"fawiki\": 2634, \"rowiki\": 12703, \"trwiki\": 7988, \"tlwiki\": 8233, \"arzwiki\": 99, \"scnwiki\": 8813, \"htwiki\": 21476, \"szlwiki\": 1561, \"thwiki\": 4048, \"kshwiki\": 528879, \"enwiki\": 308, \"ltwiki\": 5874, \"tpiwiki\": 7728, \"etwiki\": 27, \"nds_nlwiki\": 5511, \"frwiki\": 815713, \"plwiki\": 421, \"dsbwiki\": 7954, \"glwiki\": 15218, \"knwiki\": 21930, \"srwiki\": 786, \"bawiki\": 1501, \"scowiki\": 4574, \"kmwiki\": 20014, \"pswiki\": 5089, \"azbwiki\": 943, \"nnwiki\": 962, \"pmswiki\": 19219, \"newiki\": 33844, \"elwiki\": 2264, \"mnwiki\": 9727, \"cswiki\": 4402, \"kbpwiki\": 193, \"mlwiki\": 17802, \"fywiki\": 10113, \"skwiki\": 923, \"hakwiki\": 14544, \"eswiki\": 4411, \"jawiki\": 8761, \"lawiki\": 7993, \"urwiki\": 4913, \"vecwiki\": 27019, \"lowiki\": 15321, \"myvwiki\": 23505}, \"qid\": \"Q868\", \"topics\": [\"Culture.Biography.Biography*\", \"Culture.Linguistics\", \"Culture.Performing arts\", \"Culture.Philosophy and religion\", \"Geography.Regions.Europe.Europe*\", \"Geography.Regions.Europe.Southern Europe\", \"History and Society.Education\", \"History and Society.History\", \"History and Society.Politics and government\", \"STEM.Biology\", \"STEM.Mathematics\", \"STEM.Physics\", \"STEM.STEM*\", \"STEM.Space\"]}\n",
      "{\"wp_templates\": [\"Classical music\", \"Classical music/Compositions task force\"], \"article_revid\": 996446900, \"title\": \"An_American_in_Paris\", \"talk_pid\": 1229991, \"talk_revid\": 994073918, \"sitelinks\": {\"itwiki\": 4254494, \"kowiki\": 671384, \"fiwiki\": 762997, \"ruwiki\": 6759548, \"rowiki\": 1245332, \"eswiki\": 1404189, \"nlwiki\": 539320, \"zhwiki\": 481500, \"hewiki\": 341062, \"svwiki\": 145126, \"enwiki\": 309, \"huwiki\": 492104, \"jawiki\": 436304, \"dewiki\": 3724715, \"cawiki\": 116803, \"thwiki\": 332384, \"shwiki\": 1408265, \"plwiki\": 91345, \"frwiki\": 984251}, \"qid\": \"Q853997\", \"topics\": [\"Culture.Media.Media*\", \"Culture.Media.Music\"]}\n"
     ]
    },
    {
     "name": "stdout",
     "output_type": "stream",
     "text": [
      "^C\r\n"
     ]
    }
   ],
   "source": [
    "!bzless {output_json} | head"
   ]
  },
  {
   "cell_type": "code",
   "execution_count": 27,
   "metadata": {},
   "outputs": [],
   "source": [
    "num_articles_with_topics = 0\n",
    "for pid in pids_to_metadata:\n",
    "    if pids_to_metadata[pid].get('topics'):\n",
    "        num_articles_with_topics += len(pids_to_metadata[pid].get('sitelinks', []))"
   ]
  },
  {
   "cell_type": "code",
   "execution_count": 28,
   "metadata": {},
   "outputs": [
    {
     "data": {
      "text/plain": [
       "30581076"
      ]
     },
     "execution_count": 28,
     "metadata": {},
     "output_type": "execute_result"
    }
   ],
   "source": [
    "num_articles_with_topics"
   ]
  }
 ],
 "metadata": {
  "kernelspec": {
   "display_name": "Python 3",
   "language": "python",
   "name": "python3"
  },
  "language_info": {
   "codemirror_mode": {
    "name": "ipython",
    "version": 3
   },
   "file_extension": ".py",
   "mimetype": "text/x-python",
   "name": "python",
   "nbconvert_exporter": "python",
   "pygments_lexer": "ipython3",
   "version": "3.7.3"
  }
 },
 "nbformat": 4,
 "nbformat_minor": 4
}
