{
 "cells": [
  {
   "cell_type": "markdown",
   "metadata": {},
   "source": [
    "## Notebook setup"
   ]
  },
  {
   "cell_type": "code",
   "execution_count": 15,
   "metadata": {},
   "outputs": [],
   "source": [
    "import bz2\n",
    "import csv\n",
    "import json\n",
    "import os\n",
    "import random\n",
    "import sys\n",
    "\n",
    "import fasttext\n",
    "import numpy as np\n",
    "import pandas as pd\n",
    "import seaborn as sns"
   ]
  },
  {
   "cell_type": "code",
   "execution_count": 2,
   "metadata": {},
   "outputs": [
    {
     "data": {
      "text/plain": [
       "131072"
      ]
     },
     "execution_count": 2,
     "metadata": {},
     "output_type": "execute_result"
    }
   ],
   "source": [
    "csv.field_size_limit(sys.maxsize)"
   ]
  },
  {
   "cell_type": "code",
   "execution_count": 5,
   "metadata": {},
   "outputs": [],
   "source": [
    "HDFS_DIR = 'all-outlinks-by-article'\n",
    "STAT_DIR = f'./{HDFS_DIR}'\n",
    "if not os.path.exists(STAT_DIR):\n",
    "    print(f\"{STAT_DIR} does not exist.\")\n",
    "OUTPUT_DIR = './fasttext_data/202012/'\n",
    "if not os.path.exists(OUTPUT_DIR):\n",
    "    print(f\"{OUTPUT_DIR} does not exist.\")\n",
    "OUTPUT_BASE = 'wikiworkshop_202012'\n",
    "LABELED_DATA_URL = 'https://ndownloader.figshare.com/files/22969217'\n",
    "LABELED_DATA_FN = os.path.join(OUTPUT_DIR, 'labeled_enwiki_with_topics_metadata.json.bz2')\n",
    "TRAIN_PROP = 0.9\n",
    "VAL_PROP = 0.02\n",
    "TEST_PROP = 0.08\n",
    "assert TRAIN_PROP + VAL_PROP + TEST_PROP == 1"
   ]
  },
  {
   "cell_type": "code",
   "execution_count": 6,
   "metadata": {},
   "outputs": [],
   "source": [
    "!hdfs dfs -copyToLocal '{HDFS_DIR}/part*' '{STAT_DIR}'"
   ]
  },
  {
   "cell_type": "code",
   "execution_count": 8,
   "metadata": {},
   "outputs": [
    {
     "name": "stdout",
     "output_type": "stream",
     "text": [
      "8.4G\t./all-outlinks-by-article\r\n"
     ]
    }
   ],
   "source": [
    "!du -hs '{STAT_DIR}'"
   ]
  },
  {
   "cell_type": "markdown",
   "metadata": {},
   "source": [
    "## Gather labels"
   ]
  },
  {
   "cell_type": "code",
   "execution_count": 27,
   "metadata": {},
   "outputs": [
    {
     "name": "stdout",
     "output_type": "stream",
     "text": [
      "--2020-10-14 20:22:34--  https://ndownloader.figshare.com/files/22969217\n",
      "Resolving webproxy.eqiad.wmnet (webproxy.eqiad.wmnet)... 2620:0:861:1:208:80:154:32, 208.80.154.32\n",
      "Connecting to webproxy.eqiad.wmnet (webproxy.eqiad.wmnet)|2620:0:861:1:208:80:154:32|:8080... connected.\n",
      "Proxy request sent, awaiting response... 302 Found\n",
      "Location: https://s3-eu-west-1.amazonaws.com/pfigshare-u-files/22969217/labeled_enwiki_with_topics_metadata.json.bz2 [following]\n",
      "--2020-10-14 20:22:35--  https://s3-eu-west-1.amazonaws.com/pfigshare-u-files/22969217/labeled_enwiki_with_topics_metadata.json.bz2\n",
      "Connecting to webproxy.eqiad.wmnet (webproxy.eqiad.wmnet)|2620:0:861:1:208:80:154:32|:8080... connected.\n",
      "Proxy request sent, awaiting response... 200 OK\n",
      "Length: 316930407 (302M) [application/octet-stream]\n",
      "Saving to: ‘./fasttext_data/labeled_enwiki_with_topics_metadata.json.bz2’\n",
      "\n",
      "./fasttext_data/lab 100%[===================>] 302.25M  17.3MB/s    in 19s     \n",
      "\n",
      "2020-10-14 20:22:55 (15.7 MB/s) - ‘./fasttext_data/labeled_enwiki_with_topics_metadata.json.bz2’ saved [316930407/316930407]\n",
      "\n"
     ]
    }
   ],
   "source": [
    "# If getting from Figshare\n",
    "!wget {LABELED_DATA_URL} -O {LABELED_DATA_FN}"
   ]
  },
  {
   "cell_type": "code",
   "execution_count": 10,
   "metadata": {},
   "outputs": [
    {
     "name": "stdout",
     "output_type": "stream",
     "text": [
      "5662388 QIDs, 268583 skipped bc no topics, and 39627 w/o QIDs.\n"
     ]
    }
   ],
   "source": [
    "qid_to_topics = {}\n",
    "articles_per_topic = {}\n",
    "topic_dist = {}\n",
    "skipped = 0\n",
    "no_topics = 0\n",
    "with bz2.open(LABELED_DATA_FN, 'rt') as fin:\n",
    "    for line in fin:\n",
    "        line = json.loads(line)\n",
    "        qid = line.get('qid')\n",
    "        topics = line['topics']\n",
    "        if qid:\n",
    "            if topics:\n",
    "                topic_dist[len(topics)] = topic_dist.get(len(topics), 0) + 1\n",
    "                qid_to_topics[qid] = topics\n",
    "                for t in topics:\n",
    "                    articles_per_topic[t] = articles_per_topic.get(t, 0) + 1\n",
    "            else:\n",
    "                no_topics += 1\n",
    "        else:\n",
    "            skipped += 1\n",
    "print(\"{0} QIDs, {1} skipped bc no topics, and {2} w/o QIDs.\".format(len(qid_to_topics), no_topics, skipped))"
   ]
  },
  {
   "cell_type": "code",
   "execution_count": 11,
   "metadata": {},
   "outputs": [
    {
     "name": "stdout",
     "output_type": "stream",
     "text": [
      "Distribution of # of topics per article\n"
     ]
    },
    {
     "data": {
      "text/plain": [
       "<matplotlib.axes._subplots.AxesSubplot at 0x7fcf1b9429b0>"
      ]
     },
     "execution_count": 11,
     "metadata": {},
     "output_type": "execute_result"
    },
    {
     "data": {
      "image/png": "[encoded data removed]",
      "text/plain": [
       "<Figure size 432x288 with 1 Axes>"
      ]
     },
     "metadata": {
      "needs_background": "light"
     },
     "output_type": "display_data"
    }
   ],
   "source": [
    "print(\"Distribution of # of topics per article\")\n",
    "topic_dist_df = pd.DataFrame({'# articles':[v for v in topic_dist.values()], '# topics':[k for k in topic_dist.keys()]})\n",
    "#topic_dist_df.columns = ['# Topics','# Articles']\n",
    "sns.barplot(data=topic_dist_df, x='# topics', y='# articles')"
   ]
  },
  {
   "cell_type": "code",
   "execution_count": 20,
   "metadata": {},
   "outputs": [
    {
     "name": "stdout",
     "output_type": "stream",
     "text": [
      "1. STEM.Libraries & Information:\t10043 articles\n",
      "2. Geography.Regions.Africa.Central Africa:\t11794 articles\n",
      "3. Geography.Regions.Asia.Central Asia:\t11966 articles\n",
      "4. Culture.Visual arts.Fashion:\t12730 articles\n",
      "5. STEM.Physics:\t19388 articles\n",
      "6. Culture.Media.Software:\t23504 articles\n",
      "7. STEM.Mathematics:\t24001 articles\n",
      "8. Geography.Regions.Africa.Southern Africa:\t27049 articles\n",
      "9. Culture.Media.Radio:\t29252 articles\n",
      "10. STEM.Chemistry:\t30155 articles\n",
      "11. Geography.Regions.Africa.Northern Africa:\t31563 articles\n",
      "12. STEM.Space:\t33451 articles\n",
      "13. Geography.Regions.Africa.Eastern Africa:\t36411 articles\n",
      "14. Culture.Visual arts.Comics and Anime:\t37144 articles\n",
      "15. Geography.Regions.Africa.Western Africa:\t37305 articles\n",
      "16. Culture.Media.Video games:\t37399 articles\n",
      "17. Culture.Food and drink:\t37510 articles\n",
      "18. Culture.Performing arts:\t41835 articles\n",
      "19. STEM.Computing:\t46064 articles\n",
      "20. Culture.Internet culture:\t49292 articles\n",
      "21. Geography.Regions.Americas.Central America:\t54149 articles\n",
      "22. Culture.Media.Entertainment:\t55874 articles\n",
      "23. Culture.Media.Books:\t60499 articles\n",
      "24. History and Society.Society:\t65751 articles\n",
      "25. STEM.Technology:\t78093 articles\n",
      "26. STEM.Medicine & Health:\t78319 articles\n",
      "27. STEM.Earth and environment:\t81266 articles\n",
      "28. STEM.Engineering:\t85344 articles\n",
      "29. Geography.Regions.Asia.North Asia:\t86807 articles\n",
      "30. Geography.Regions.Asia.Southeast Asia:\t93445 articles\n",
      "31. History and Society.Education:\t99225 articles\n",
      "32. Culture.Linguistics:\t100240 articles\n",
      "33. Geography.Regions.Americas.South America:\t105113 articles\n",
      "34. Culture.Media.Television:\t116630 articles\n",
      "35. History and Society.Business and economics:\t142032 articles\n",
      "36. Geography.Regions.Africa.Africa*:\t150859 articles\n",
      "37. Culture.Philosophy and religion:\t160645 articles\n",
      "38. Culture.Visual arts.Architecture:\t170302 articles\n",
      "39. History and Society.History:\t176691 articles\n",
      "40. Geography.Regions.Asia.East Asia:\t184584 articles\n",
      "41. Geography.Regions.Asia.West Asia:\t185577 articles\n",
      "42. Culture.Literature:\t206136 articles\n",
      "43. Geography.Regions.Europe.Southern Europe:\t214823 articles\n",
      "44. History and Society.Military and warfare:\t217041 articles\n",
      "45. History and Society.Transportation:\t225668 articles\n",
      "46. Geography.Regions.Asia.South Asia:\t242571 articles\n",
      "47. Culture.Media.Films:\t243317 articles\n",
      "48. Geography.Regions.Oceania:\t243949 articles\n",
      "49. History and Society.Politics and government:\t263498 articles\n",
      "50. Geography.Regions.Europe.Eastern Europe:\t270174 articles\n",
      "51. Culture.Biography.Women:\t273733 articles\n",
      "52. Culture.Visual arts.Visual arts*:\t284921 articles\n",
      "53. Geography.Regions.Europe.Western Europe:\t311098 articles\n",
      "54. Geography.Geographical:\t320994 articles\n",
      "55. Culture.Media.Music:\t390343 articles\n",
      "56. Geography.Regions.Europe.Northern Europe:\t435137 articles\n",
      "57. STEM.Biology:\t493472 articles\n",
      "58. Geography.Regions.Asia.Asia*:\t796153 articles\n",
      "59. Geography.Regions.Americas.North America:\t868078 articles\n",
      "60. STEM.STEM*:\t912054 articles\n",
      "61. Culture.Media.Media*:\t927123 articles\n",
      "62. Culture.Sports:\t949921 articles\n",
      "63. Geography.Regions.Europe.Europe*:\t1216029 articles\n",
      "64. Culture.Biography.Biography*:\t1862363 articles\n",
      "\n",
      "Average: 235748.390625\n",
      "Median: 100240\n"
     ]
    }
   ],
   "source": [
    "md = None\n",
    "for i, t in enumerate(sorted(articles_per_topic, key=articles_per_topic.get), start=1):\n",
    "    print(f\"{i}. {t}:\\t{articles_per_topic[t]} articles\")\n",
    "    if i == int(len(articles_per_topic) / 2):\n",
    "        md = articles_per_topic[t]\n",
    "    \n",
    "print(f\"\\nAverage: {sum(articles_per_topic.values()) / len(articles_per_topic)}\")\n",
    "print(f\"Median: {md}\")"
   ]
  },
  {
   "cell_type": "markdown",
   "metadata": {},
   "source": [
    "## Convert data to fastText format"
   ]
  },
  {
   "cell_type": "code",
   "execution_count": 21,
   "metadata": {},
   "outputs": [],
   "source": [
    "def fasttextify(topic):\n",
    "    \"\"\"Translate articletopic labels into fastText format (prefixed with __label__ and no spaces).\"\"\"\n",
    "    return '__label__{0}'.format(topic.replace(' ', '_'))"
   ]
  },
  {
   "cell_type": "code",
   "execution_count": 22,
   "metadata": {},
   "outputs": [
    {
     "name": "stdout",
     "output_type": "stream",
     "text": [
      "1 of 1024 processed: 26727 train. 590 val. 2371 test. 24520 no groundtruth.\n",
      "2 of 1024 processed: 53110 train. 1163 val. 4640 test. 48785 no groundtruth.\n",
      "4 of 1024 processed: 106233 train. 2368 val. 9222 test. 97350 no groundtruth.\n",
      "8 of 1024 processed: 212480 train. 4718 val. 18569 test. 195620 no groundtruth.\n",
      "16 of 1024 processed: 425379 train. 9407 val. 37513 test. 391495 no groundtruth.\n",
      "32 of 1024 processed: 849489 train. 18923 val. 75576 test. 783075 no groundtruth.\n",
      "64 of 1024 processed: 1701246 train. 37948 val. 151181 test. 1565414 no groundtruth.\n",
      "128 of 1024 processed: 3403591 train. 75535 val. 302215 test. 3131642 no groundtruth.\n",
      "256 of 1024 processed: 6804845 train. 150683 val. 605271 test. 6263314 no groundtruth.\n",
      "512 of 1024 processed: 13610271 train. 301592 val. 1208861 test. 12521250 no groundtruth.\n",
      "1024 of 1024 processed: 27225747 train. 603582 val. 2417700 test. 25047098 no groundtruth.\n",
      "1024 of 1024 processed: 27225747 train. 603582 val. 2417700 test. 25047098 no groundtruth.\n"
     ]
    }
   ],
   "source": [
    "train_fn = os.path.join(OUTPUT_DIR, '{0}_train.txt'.format(OUTPUT_BASE))\n",
    "train_metadata_fn = os.path.join(OUTPUT_DIR, '{0}_train_metadata.txt'.format(OUTPUT_BASE))\n",
    "val_fn = os.path.join(OUTPUT_DIR, '{0}_val.txt'.format(OUTPUT_BASE))\n",
    "val_metadata_fn = os.path.join(OUTPUT_DIR, '{0}_val_metadata.txt'.format(OUTPUT_BASE))\n",
    "test_fn = os.path.join(OUTPUT_DIR, '{0}_test.txt'.format(OUTPUT_BASE))\n",
    "test_metadata_fn = os.path.join(OUTPUT_DIR, '{0}_test_metadata.txt'.format(OUTPUT_BASE))\n",
    "nogroundtruth_fn = os.path.join(OUTPUT_DIR, '{0}_nogt.txt'.format(OUTPUT_BASE))\n",
    "nogroundtruth_metadata_fn = os.path.join(OUTPUT_DIR, '{0}_nogt_metadata.txt'.format(OUTPUT_BASE))\n",
    "train_written = 0\n",
    "val_written = 0\n",
    "test_written = 0\n",
    "nogt_written = 0\n",
    "i = 0\n",
    "qids_to_split = {}\n",
    "tsvs = [fn for fn in os.listdir(STAT_DIR) if fn.endswith('.csv.bz2')]\n",
    "print_every = 1\n",
    "with open(train_fn, 'w') as train_fout:\n",
    "    with open(train_metadata_fn, 'w') as train_metadata_fout:\n",
    "        with open(val_fn, 'w') as val_fout:\n",
    "            with open(val_metadata_fn, 'w') as val_metadata_fout:\n",
    "                with open(test_fn, 'w') as test_fout:\n",
    "                    with open(test_metadata_fn, 'w') as test_metadata_fout:\n",
    "                        with open(nogroundtruth_fn, 'w') as nogt_fout:\n",
    "                            with open(nogroundtruth_metadata_fn, 'w') as nogt_metadata_fout:\n",
    "                                for fidx, fn in enumerate(tsvs, start=1):\n",
    "                                    with bz2.open(os.path.join(STAT_DIR, fn), 'rt') as fin:\n",
    "                                        tsvreader = csv.reader(fin, delimiter='\\t')\n",
    "                                        assert next(tsvreader) == ['wiki_db', 'pid_from', 'qid_from', 'outlinks']\n",
    "                                        for i, line in enumerate(tsvreader, start=1):\n",
    "                                            wiki_db = line[0]\n",
    "                                            pid = line[1]\n",
    "                                            src_qid = line[2]\n",
    "                                            topics = qid_to_topics.get(src_qid, [])\n",
    "                                            outlinks = line[3].split()\n",
    "                                            random.shuffle(outlinks)  # randomize order for training\n",
    "                                            if topics:\n",
    "                                                if src_qid in qids_to_split:\n",
    "                                                    r = qids_to_split[src_qid]\n",
    "                                                else:\n",
    "                                                    r = random.random()\n",
    "                                                    qids_to_split[src_qid] = r\n",
    "                                                if r <= TRAIN_PROP:\n",
    "                                                    data_fout = train_fout\n",
    "                                                    metadata_fout = train_metadata_fout\n",
    "                                                    train_written += 1\n",
    "                                                elif r <= TRAIN_PROP + VAL_PROP:\n",
    "                                                    data_fout = val_fout\n",
    "                                                    metadata_fout = val_metadata_fout\n",
    "                                                    val_written += 1\n",
    "                                                else:\n",
    "                                                    data_fout = test_fout\n",
    "                                                    metadata_fout = test_metadata_fout\n",
    "                                                    test_written += 1\n",
    "                                            else:\n",
    "                                                data_fout = nogt_fout\n",
    "                                                metadata_fout = nogt_metadata_fout\n",
    "                                                nogt_written += 1\n",
    "                                            data_fout.write('{0} {1}\\n'.format(' '.join([fasttextify(t) for t in topics]), ' '.join(outlinks)))\n",
    "                                            metadata_fout.write('{0}\\t{1}\\t{2}\\n'.format(src_qid, wiki_db, pid))\n",
    "                                    if fidx % print_every == 0:\n",
    "                                        print_every *= 2\n",
    "                                        print(\"{0} of {1} processed: {2} train. {3} val. {4} test. {5} no groundtruth.\".format(fidx, len(tsvs),\n",
    "                                                                                                                                   train_written,\n",
    "                                                                                                                                   val_written,\n",
    "                                                                                                                                   test_written,\n",
    "                                                                                                                                   nogt_written))\n",
    "\n",
    "print(\"{0} of {1} processed: {2} train. {3} val. {4} test. {5} no groundtruth.\".format(fidx, len(tsvs), train_written, val_written, test_written, nogt_written))"
   ]
  },
  {
   "cell_type": "code",
   "execution_count": 26,
   "metadata": {
    "scrolled": true
   },
   "outputs": [
    {
     "name": "stdout",
     "output_type": "stream",
     "text": [
      "Train:\t 5088621\n",
      "Val:\t 113241\n",
      "Test:\t 451909\n"
     ]
    }
   ],
   "source": [
    "print('Train:\\t', len([0 for v in qids_to_split.values() if v <= TRAIN_PROP]))\n",
    "print('Val:\\t', len([0 for v in qids_to_split.values() if v > TRAIN_PROP and v <= TRAIN_PROP + VAL_PROP]))\n",
    "print('Test:\\t', len([0 for v in qids_to_split.values() if v > TRAIN_PROP + VAL_PROP]))"
   ]
  },
  {
   "cell_type": "markdown",
   "metadata": {},
   "source": [
    "## Train Model\n",
    "See: stat1007:/home/isaacj/lang_agnostic_topic_modeling/topics/train_fasttext_topic_classification.py"
   ]
  },
  {
   "cell_type": "code",
   "execution_count": 28,
   "metadata": {},
   "outputs": [],
   "source": [
    "model_dir = './fasttext_data/202012/'\n",
    "model_prefix = 'model_alloutlinks_202012'\n",
    "OUTPUT_MODEL = os.path.join(model_dir, f'{model_prefix}.bin')\n",
    "EVAL_TSV = os.path.join(model_dir, f'{model_prefix}_eval.tsv')\n",
    "RESULTS_WIKI_TSV = os.path.join(model_dir, f'{model_prefix}_wikidb.tsv')\n",
    "RESULTS_OUTLINK_TSV = os.path.join(model_dir, f'{model_prefix}_outlink.tsv')\n",
    "PREDICTIONS_TSV = os.path.join(model_dir, f'{model_prefix}_predictions.tsv.bz2')\n",
    "LANG_PROBS_TSV = os.path.join(model_dir, f'{model_prefix}_wiki_topic_dist.tsv')"
   ]
  },
  {
   "cell_type": "code",
   "execution_count": null,
   "metadata": {},
   "outputs": [],
   "source": [
    "!python train_fasttext_topic_classification.py \\\n",
    "  --training_data {train_fn} \\\n",
    "  --val_data {val_fn} \\\n",
    "  --test_data {test_fn} \\\n",
    "  --output_model {OUTPUT_MODEL} \\\n",
    "  --false_negatives_fn '' \\\n",
    "  --word_vectors '' \\\n",
    "  --learning_rates 0.1 \\\n",
    "  --minCounts 5 10 20 \\\n",
    "  --epochs 2 3 \\\n",
    "  --ws 20 \\\n",
    "  --ndims 50 100 \\\n",
    "  --mlc_res_tsv {EVAL_TSV}"
   ]
  },
  {
   "cell_type": "markdown",
   "metadata": {},
   "source": [
    "## Apply Model\n",
    "Skipping:\n",
    "  --wikidb_wikitext RESULTS_WIKI_TSV \\\n",
    "  --outlink_wikitext RESULTS_OUTLINK_TSV\n",
    "  --labeled_qids\n"
   ]
  },
  {
   "cell_type": "code",
   "execution_count": null,
   "metadata": {},
   "outputs": [
    {
     "name": "stdout",
     "output_type": "stream",
     "text": [
      "/usr/lib/python3/dist-packages/sklearn/externals/joblib.py:1: DeprecationWarning: the imp module is deprecated in favour of importlib; see the module's documentation for alternative uses\n",
      "  import imp\n",
      "Warning : `load_model` does not return WordVectorModel or SupervisedModel any more, but a `FastText` object which is very similar.\n",
      "\n",
      "Model architecture:\n",
      "Embedding size: 50\n",
      "Total # params: 3200\n",
      "Vocab size: 5241513\n",
      "File size: 1090.587 MB\n",
      "File 1/1024. 53128 total lines processed. Top 5 wiki_dbs: [('enwiki', 6036), ('cebwiki', 5245), ('svwiki', 3687), ('dewiki', 2465), ('frwiki', 2177)]\n",
      "File 2/1024. 105991 total lines processed. Top 5 wiki_dbs: [('enwiki', 12031), ('cebwiki', 10432), ('svwiki', 7229), ('dewiki', 5018), ('frwiki', 4398)]\n",
      "File 3/1024. 159322 total lines processed. Top 5 wiki_dbs: [('enwiki', 17946), ('cebwiki', 15732), ('svwiki', 10816), ('dewiki', 7473), ('frwiki', 6618)]\n"
     ]
    }
   ],
   "source": [
    "!python bulk_predict.py \\\n",
    "  --collected_outlinks_tsvs {STAT_DIR} \\\n",
    "  --output_predictions_tsv {PREDICTIONS_TSV} \\\n",
    "  --output_lang_data {LANG_PROBS_TSV} \\\n",
    "  --model_bin {OUTPUT_MODEL}"
   ]
  },
  {
   "cell_type": "code",
   "execution_count": null,
   "metadata": {},
   "outputs": [],
   "source": [
    "for_hive_tsv = './fasttext_data/model_alloutlinks_202009_predictions_hive.tsv'\n",
    "expected_header = ['wiki_db', 'qid', 'pid', 'num_outlinks',\n",
    "                   'Culture.Biography.Biography*', 'Culture.Biography.Women',\n",
    "                   'Culture.Food_and_drink',\n",
    "                   'Culture.Internet_culture',\n",
    "                   'Culture.Linguistics',\n",
    "                   'Culture.Literature',\n",
    "                   'Culture.Media.Books', 'Culture.Media.Entertainment', 'Culture.Media.Films', 'Culture.Media.Media*', 'Culture.Media.Music', 'Culture.Media.Radio', 'Culture.Media.Software', 'Culture.Media.Television', 'Culture.Media.Video_games',\n",
    "                   'Culture.Performing_arts',\n",
    "                   'Culture.Philosophy_and_religion',\n",
    "                   'Culture.Sports',\n",
    "                   'Culture.Visual_arts.Architecture', 'Culture.Visual_arts.Comics_and_Anime', 'Culture.Visual_arts.Fashion', 'Culture.Visual_arts.Visual_arts*',\n",
    "                   'Geography.Geographical',\n",
    "                   'Geography.Regions.Africa.Africa*', 'Geography.Regions.Africa.Central_Africa', 'Geography.Regions.Africa.Eastern_Africa', 'Geography.Regions.Africa.Northern_Africa', 'Geography.Regions.Africa.Southern_Africa', 'Geography.Regions.Africa.Western_Africa',\n",
    "                   'Geography.Regions.Americas.Central_America', 'Geography.Regions.Americas.North_America', 'Geography.Regions.Americas.South_America',\n",
    "                   'Geography.Regions.Asia.Asia*', 'Geography.Regions.Asia.Central_Asia', 'Geography.Regions.Asia.East_Asia', 'Geography.Regions.Asia.North_Asia', 'Geography.Regions.Asia.South_Asia', 'Geography.Regions.Asia.Southeast_Asia', 'Geography.Regions.Asia.West_Asia',\n",
    "                   'Geography.Regions.Europe.Eastern_Europe', 'Geography.Regions.Europe.Europe*', 'Geography.Regions.Europe.Northern_Europe', 'Geography.Regions.Europe.Southern_Europe', 'Geography.Regions.Europe.Western_Europe',\n",
    "                   'Geography.Regions.Oceania',\n",
    "                   'History_and_Society.Business_and_economics',\n",
    "                   'History_and_Society.Education',\n",
    "                   'History_and_Society.History',\n",
    "                   'History_and_Society.Military_and_warfare',\n",
    "                   'History_and_Society.Politics_and_government',\n",
    "                   'History_and_Society.Society',\n",
    "                   'History_and_Society.Transportation',\n",
    "                   'STEM.Biology',\n",
    "                   'STEM.Chemistry',\n",
    "                   'STEM.Computing',\n",
    "                   'STEM.Earth_and_environment',\n",
    "                   'STEM.Engineering',\n",
    "                   'STEM.Libraries_&_Information',\n",
    "                   'STEM.Mathematics',\n",
    "                   'STEM.Medicine_&_Health',\n",
    "                   'STEM.Physics',\n",
    "                   'STEM.STEM*',\n",
    "                   'STEM.Space',\n",
    "                   'STEM.Technology']\n",
    "topic_start_idx = expected_header.index('Culture.Biography.Biography*')\n",
    "topic_end_idx = expected_header.index('STEM.Technology')\n",
    "wikidb_idx = expected_header.index('wiki_db')\n",
    "pid_idx = expected_header.index('pid')\n",
    "qid_idx = expected_header.index('qid')\n",
    "threshold = 0.15\n",
    "written = 0\n",
    "with open(for_hive_tsv, 'w') as fout:\n",
    "    # fout.write('pageid\\tqid\\ttopic\\tscore\\twikidb\\n')\n",
    "    with bz2.open(PREDICTIONS_TSV, 'rt') as fin:\n",
    "        tsvreader = csv.reader(fin, delimiter='\\t')\n",
    "        assert next(tsvreader) == expected_header\n",
    "        for i, line in enumerate(tsvreader, start=1):\n",
    "            wiki = line[wikidb_idx]\n",
    "            pid = int(line[pid_idx])\n",
    "            qid = line[qid_idx]\n",
    "            for idx in range(topic_start_idx, topic_end_idx + 1):\n",
    "                if float(line[idx]) > threshold:\n",
    "                    topic = expected_header[idx]\n",
    "                    fout.write('{0}\\t{1}\\t{2}\\t{3}\\t{4}\\n'.format(pid, qid, topic, line[idx], wiki))\n",
    "                    written += 1\n",
    "            if i % 1000000 == 0:\n",
    "                print(\"{0} lines processed. Retained: {1}.\".format(i, written))"
   ]
  },
  {
   "cell_type": "code",
   "execution_count": 13,
   "metadata": {},
   "outputs": [
    {
     "name": "stdout",
     "output_type": "stream",
     "text": [
      "54511389 lines processed. Retained: 178970191.\n"
     ]
    }
   ],
   "source": [
    "print(\"{0} lines processed. Retained: {1}.\".format(i, written))"
   ]
  }
 ],
 "metadata": {
  "kernelspec": {
   "display_name": "Python 3",
   "language": "python",
   "name": "python3"
  },
  "language_info": {
   "codemirror_mode": {
    "name": "ipython",
    "version": 3
   },
   "file_extension": ".py",
   "mimetype": "text/x-python",
   "name": "python",
   "nbconvert_exporter": "python",
   "pygments_lexer": "ipython3",
   "version": "3.7.3"
  }
 },
 "nbformat": 4,
 "nbformat_minor": 4
}
